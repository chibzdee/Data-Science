{
 "cells": [
  {
   "cell_type": "markdown",
   "id": "43a80843",
   "metadata": {
    "papermill": {
     "duration": 0.006456,
     "end_time": "2024-08-15T00:01:12.246269",
     "exception": false,
     "start_time": "2024-08-15T00:01:12.239813",
     "status": "completed"
    },
    "tags": []
   },
   "source": [
    "**This notebook is an exercise in the [Introduction to Machine Learning](https://www.kaggle.com/learn/intro-to-machine-learning) course.  You can reference the tutorial at [this link](https://www.kaggle.com/dansbecker/model-validation).**\n",
    "\n",
    "---\n"
   ]
  },
  {
   "cell_type": "markdown",
   "id": "7377fc4b",
   "metadata": {
    "papermill": {
     "duration": 0.005546,
     "end_time": "2024-08-15T00:01:12.257967",
     "exception": false,
     "start_time": "2024-08-15T00:01:12.252421",
     "status": "completed"
    },
    "tags": []
   },
   "source": [
    "## Recap\n",
    "You've built a model. In this exercise you will test how good your model is.\n",
    "\n",
    "Run the cell below to set up your coding environment where the previous exercise left off."
   ]
  },
  {
   "cell_type": "code",
   "execution_count": 1,
   "id": "41e08fb1",
   "metadata": {
    "execution": {
     "iopub.execute_input": "2024-08-15T00:01:12.272423Z",
     "iopub.status.busy": "2024-08-15T00:01:12.271175Z",
     "iopub.status.idle": "2024-08-15T00:01:14.858038Z",
     "shell.execute_reply": "2024-08-15T00:01:14.856416Z"
    },
    "papermill": {
     "duration": 2.597045,
     "end_time": "2024-08-15T00:01:14.860813",
     "exception": false,
     "start_time": "2024-08-15T00:01:12.263768",
     "status": "completed"
    },
    "tags": []
   },
   "outputs": [
    {
     "name": "stdout",
     "output_type": "stream",
     "text": [
      "First in-sample predictions: [208500. 181500. 223500. 140000. 250000.]\n",
      "Actual target values for those homes: [208500, 181500, 223500, 140000, 250000]\n",
      "Setup Complete\n"
     ]
    }
   ],
   "source": [
    "# Code you have previously used to load data\n",
    "import pandas as pd\n",
    "from sklearn.tree import DecisionTreeRegressor\n",
    "\n",
    "# Path of the file to read\n",
    "iowa_file_path = '../input/home-data-for-ml-course/train.csv'\n",
    "\n",
    "home_data = pd.read_csv(iowa_file_path)\n",
    "y = home_data.SalePrice\n",
    "feature_columns = ['LotArea', 'YearBuilt', '1stFlrSF', '2ndFlrSF', 'FullBath', 'BedroomAbvGr', 'TotRmsAbvGrd']\n",
    "X = home_data[feature_columns]\n",
    "\n",
    "# Specify Model\n",
    "iowa_model = DecisionTreeRegressor()\n",
    "# Fit Model\n",
    "iowa_model.fit(X, y)\n",
    "\n",
    "print(\"First in-sample predictions:\", iowa_model.predict(X.head()))\n",
    "print(\"Actual target values for those homes:\", y.head().tolist())\n",
    "\n",
    "# Set up code checking\n",
    "from learntools.core import binder\n",
    "binder.bind(globals())\n",
    "from learntools.machine_learning.ex4 import *\n",
    "print(\"Setup Complete\")"
   ]
  },
  {
   "cell_type": "markdown",
   "id": "a61d0798",
   "metadata": {
    "papermill": {
     "duration": 0.00587,
     "end_time": "2024-08-15T00:01:14.873035",
     "exception": false,
     "start_time": "2024-08-15T00:01:14.867165",
     "status": "completed"
    },
    "tags": []
   },
   "source": [
    "# Exercises\n",
    "\n",
    "## Step 1: Split Your Data\n",
    "Use the `train_test_split` function to split up your data.\n",
    "\n",
    "Give it the argument `random_state=1` so the `check` functions know what to expect when verifying your code.\n",
    "\n",
    "Recall, your features are loaded in the DataFrame **X** and your target is loaded in **y**.\n"
   ]
  },
  {
   "cell_type": "code",
   "execution_count": 2,
   "id": "e19fccaa",
   "metadata": {
    "execution": {
     "iopub.execute_input": "2024-08-15T00:01:14.887216Z",
     "iopub.status.busy": "2024-08-15T00:01:14.886768Z",
     "iopub.status.idle": "2024-08-15T00:01:14.988102Z",
     "shell.execute_reply": "2024-08-15T00:01:14.986997Z"
    },
    "papermill": {
     "duration": 0.111632,
     "end_time": "2024-08-15T00:01:14.990833",
     "exception": false,
     "start_time": "2024-08-15T00:01:14.879201",
     "status": "completed"
    },
    "tags": []
   },
   "outputs": [
    {
     "data": {
      "application/javascript": [
       "parent.postMessage({\"jupyterEvent\": \"custom.exercise_interaction\", \"data\": {\"outcomeType\": 1, \"valueTowardsCompletion\": 0.25, \"interactionType\": 1, \"questionType\": 2, \"questionId\": \"1_SplitData\", \"learnToolsVersion\": \"0.3.4\", \"failureMessage\": \"\", \"exceptionClass\": \"\", \"trace\": \"\"}}, \"*\")"
      ],
      "text/plain": [
       "<IPython.core.display.Javascript object>"
      ]
     },
     "metadata": {},
     "output_type": "display_data"
    },
    {
     "data": {
      "text/markdown": [
       "<span style=\"color:#33cc33\">Correct</span>"
      ],
      "text/plain": [
       "Correct"
      ]
     },
     "metadata": {},
     "output_type": "display_data"
    }
   ],
   "source": [
    "# Import the train_test_split function and uncomment\n",
    "from sklearn.model_selection import train_test_split\n",
    "\n",
    "# fill in and uncomment\n",
    "train_X, val_X, train_y, val_y = train_test_split(X, y, random_state=1)\n",
    "\n",
    "# Check your answer\n",
    "step_1.check()"
   ]
  },
  {
   "cell_type": "code",
   "execution_count": 3,
   "id": "60053b15",
   "metadata": {
    "execution": {
     "iopub.execute_input": "2024-08-15T00:01:15.005827Z",
     "iopub.status.busy": "2024-08-15T00:01:15.005412Z",
     "iopub.status.idle": "2024-08-15T00:01:15.010678Z",
     "shell.execute_reply": "2024-08-15T00:01:15.009436Z"
    },
    "papermill": {
     "duration": 0.015813,
     "end_time": "2024-08-15T00:01:15.013303",
     "exception": false,
     "start_time": "2024-08-15T00:01:14.997490",
     "status": "completed"
    },
    "tags": []
   },
   "outputs": [],
   "source": [
    "# The lines below will show you a hint or the solution.\n",
    "# step_1.hint() \n",
    "# step_1.solution()\n"
   ]
  },
  {
   "cell_type": "markdown",
   "id": "0416e662",
   "metadata": {
    "papermill": {
     "duration": 0.006287,
     "end_time": "2024-08-15T00:01:15.026368",
     "exception": false,
     "start_time": "2024-08-15T00:01:15.020081",
     "status": "completed"
    },
    "tags": []
   },
   "source": [
    "## Step 2: Specify and Fit the Model\n",
    "\n",
    "Create a `DecisionTreeRegressor` model and fit it to the relevant data.\n",
    "Set `random_state` to 1 again when creating the model."
   ]
  },
  {
   "cell_type": "code",
   "execution_count": 4,
   "id": "2db132c7",
   "metadata": {
    "execution": {
     "iopub.execute_input": "2024-08-15T00:01:15.042053Z",
     "iopub.status.busy": "2024-08-15T00:01:15.041042Z",
     "iopub.status.idle": "2024-08-15T00:01:15.071025Z",
     "shell.execute_reply": "2024-08-15T00:01:15.069908Z"
    },
    "papermill": {
     "duration": 0.040611,
     "end_time": "2024-08-15T00:01:15.073733",
     "exception": false,
     "start_time": "2024-08-15T00:01:15.033122",
     "status": "completed"
    },
    "tags": []
   },
   "outputs": [
    {
     "name": "stdout",
     "output_type": "stream",
     "text": [
      "[186500. 184000. 130000.  92000. 164500. 220000. 335000. 144152. 215000.\n",
      " 262000.]\n",
      "[186500. 184000. 130000.  92000. 164500. 220000. 335000. 144152. 215000.\n",
      " 262000.]\n"
     ]
    },
    {
     "data": {
      "application/javascript": [
       "parent.postMessage({\"jupyterEvent\": \"custom.exercise_interaction\", \"data\": {\"outcomeType\": 1, \"valueTowardsCompletion\": 0.25, \"interactionType\": 1, \"questionType\": 2, \"questionId\": \"2_FitModelWithTrain\", \"learnToolsVersion\": \"0.3.4\", \"failureMessage\": \"\", \"exceptionClass\": \"\", \"trace\": \"\"}}, \"*\")"
      ],
      "text/plain": [
       "<IPython.core.display.Javascript object>"
      ]
     },
     "metadata": {},
     "output_type": "display_data"
    },
    {
     "data": {
      "text/markdown": [
       "<span style=\"color:#33cc33\">Correct</span>"
      ],
      "text/plain": [
       "Correct"
      ]
     },
     "metadata": {},
     "output_type": "display_data"
    }
   ],
   "source": [
    "# You imported DecisionTreeRegressor in your last exercise\n",
    "# and that code has been copied to the setup code above. So, no need to\n",
    "# import it again\n",
    "\n",
    "\n",
    "# Specify the model\n",
    "iowa_model = DecisionTreeRegressor(random_state=1)\n",
    "\n",
    "# Fit iowa_model with the training data.\n",
    "iowa_model.fit(train_X, train_y)\n",
    "\n",
    "# Check your answer\n",
    "step_2.check()"
   ]
  },
  {
   "cell_type": "code",
   "execution_count": 5,
   "id": "1b1880a9",
   "metadata": {
    "execution": {
     "iopub.execute_input": "2024-08-15T00:01:15.089579Z",
     "iopub.status.busy": "2024-08-15T00:01:15.089145Z",
     "iopub.status.idle": "2024-08-15T00:01:15.094054Z",
     "shell.execute_reply": "2024-08-15T00:01:15.092857Z"
    },
    "papermill": {
     "duration": 0.015735,
     "end_time": "2024-08-15T00:01:15.096554",
     "exception": false,
     "start_time": "2024-08-15T00:01:15.080819",
     "status": "completed"
    },
    "tags": []
   },
   "outputs": [],
   "source": [
    "# step_2.hint()\n",
    "# step_2.solution()"
   ]
  },
  {
   "cell_type": "markdown",
   "id": "cae7d1c8",
   "metadata": {
    "papermill": {
     "duration": 0.006748,
     "end_time": "2024-08-15T00:01:15.110850",
     "exception": false,
     "start_time": "2024-08-15T00:01:15.104102",
     "status": "completed"
    },
    "tags": []
   },
   "source": [
    "## Step 3: Make Predictions with Validation data\n"
   ]
  },
  {
   "cell_type": "code",
   "execution_count": 6,
   "id": "5f95532b",
   "metadata": {
    "execution": {
     "iopub.execute_input": "2024-08-15T00:01:15.126638Z",
     "iopub.status.busy": "2024-08-15T00:01:15.126211Z",
     "iopub.status.idle": "2024-08-15T00:01:15.139716Z",
     "shell.execute_reply": "2024-08-15T00:01:15.138528Z"
    },
    "papermill": {
     "duration": 0.02426,
     "end_time": "2024-08-15T00:01:15.142095",
     "exception": false,
     "start_time": "2024-08-15T00:01:15.117835",
     "status": "completed"
    },
    "tags": []
   },
   "outputs": [
    {
     "data": {
      "application/javascript": [
       "parent.postMessage({\"jupyterEvent\": \"custom.exercise_interaction\", \"data\": {\"outcomeType\": 1, \"valueTowardsCompletion\": 0.25, \"interactionType\": 1, \"questionType\": 2, \"questionId\": \"3_ValPreds\", \"learnToolsVersion\": \"0.3.4\", \"failureMessage\": \"\", \"exceptionClass\": \"\", \"trace\": \"\"}}, \"*\")"
      ],
      "text/plain": [
       "<IPython.core.display.Javascript object>"
      ]
     },
     "metadata": {},
     "output_type": "display_data"
    },
    {
     "data": {
      "text/markdown": [
       "<span style=\"color:#33cc33\">Correct</span>"
      ],
      "text/plain": [
       "Correct"
      ]
     },
     "metadata": {},
     "output_type": "display_data"
    }
   ],
   "source": [
    "# Predict with all validation observations\n",
    "val_predictions = iowa_model.predict(val_X)\n",
    "\n",
    "# Check your answer\n",
    "step_3.check()"
   ]
  },
  {
   "cell_type": "code",
   "execution_count": 7,
   "id": "58f6ebd4",
   "metadata": {
    "execution": {
     "iopub.execute_input": "2024-08-15T00:01:15.159146Z",
     "iopub.status.busy": "2024-08-15T00:01:15.158131Z",
     "iopub.status.idle": "2024-08-15T00:01:15.163708Z",
     "shell.execute_reply": "2024-08-15T00:01:15.162512Z"
    },
    "papermill": {
     "duration": 0.016729,
     "end_time": "2024-08-15T00:01:15.166289",
     "exception": false,
     "start_time": "2024-08-15T00:01:15.149560",
     "status": "completed"
    },
    "tags": []
   },
   "outputs": [],
   "source": [
    "# step_3.hint()\n",
    "# step_3.solution()"
   ]
  },
  {
   "cell_type": "markdown",
   "id": "62795149",
   "metadata": {
    "papermill": {
     "duration": 0.007089,
     "end_time": "2024-08-15T00:01:15.180809",
     "exception": false,
     "start_time": "2024-08-15T00:01:15.173720",
     "status": "completed"
    },
    "tags": []
   },
   "source": [
    "Inspect your predictions and actual values from validation data."
   ]
  },
  {
   "cell_type": "code",
   "execution_count": 8,
   "id": "cdd70a99",
   "metadata": {
    "execution": {
     "iopub.execute_input": "2024-08-15T00:01:15.198846Z",
     "iopub.status.busy": "2024-08-15T00:01:15.197851Z",
     "iopub.status.idle": "2024-08-15T00:01:15.205958Z",
     "shell.execute_reply": "2024-08-15T00:01:15.204746Z"
    },
    "papermill": {
     "duration": 0.02038,
     "end_time": "2024-08-15T00:01:15.208787",
     "exception": false,
     "start_time": "2024-08-15T00:01:15.188407",
     "status": "completed"
    },
    "tags": []
   },
   "outputs": [
    {
     "name": "stdout",
     "output_type": "stream",
     "text": [
      "[186500. 184000. 130000.  92000.]\n",
      "258     231500\n",
      "267     179500\n",
      "288     122000\n",
      "649      84500\n",
      "1233    142000\n",
      "Name: SalePrice, dtype: int64\n"
     ]
    }
   ],
   "source": [
    "# print the top few validation predictions\n",
    "print(val_predictions[0:4])\n",
    "# print the top few actual prices from validation data\n",
    "print(val_y.head())"
   ]
  },
  {
   "cell_type": "markdown",
   "id": "ed334f41",
   "metadata": {
    "papermill": {
     "duration": 0.007197,
     "end_time": "2024-08-15T00:01:15.223600",
     "exception": false,
     "start_time": "2024-08-15T00:01:15.216403",
     "status": "completed"
    },
    "tags": []
   },
   "source": [
    "What do you notice that is different from what you saw with in-sample predictions (which are printed after the top code cell in this page).\n",
    "\n",
    "Do you remember why validation predictions differ from in-sample (or training) predictions? This is an important idea from the last lesson.\n",
    "\n",
    "## Step 4: Calculate the Mean Absolute Error in Validation Data\n"
   ]
  },
  {
   "cell_type": "code",
   "execution_count": 9,
   "id": "dcc3ffe7",
   "metadata": {
    "execution": {
     "iopub.execute_input": "2024-08-15T00:01:15.241158Z",
     "iopub.status.busy": "2024-08-15T00:01:15.240089Z",
     "iopub.status.idle": "2024-08-15T00:01:15.252037Z",
     "shell.execute_reply": "2024-08-15T00:01:15.250937Z"
    },
    "papermill": {
     "duration": 0.023464,
     "end_time": "2024-08-15T00:01:15.254689",
     "exception": false,
     "start_time": "2024-08-15T00:01:15.231225",
     "status": "completed"
    },
    "tags": []
   },
   "outputs": [
    {
     "name": "stdout",
     "output_type": "stream",
     "text": [
      "29652.931506849316\n"
     ]
    },
    {
     "data": {
      "application/javascript": [
       "parent.postMessage({\"jupyterEvent\": \"custom.exercise_interaction\", \"data\": {\"outcomeType\": 1, \"valueTowardsCompletion\": 0.25, \"interactionType\": 1, \"questionType\": 1, \"questionId\": \"4_MAE\", \"learnToolsVersion\": \"0.3.4\", \"failureMessage\": \"\", \"exceptionClass\": \"\", \"trace\": \"\"}}, \"*\")"
      ],
      "text/plain": [
       "<IPython.core.display.Javascript object>"
      ]
     },
     "metadata": {},
     "output_type": "display_data"
    },
    {
     "data": {
      "text/markdown": [
       "<span style=\"color:#33cc33\">Correct</span>"
      ],
      "text/plain": [
       "Correct"
      ]
     },
     "metadata": {},
     "output_type": "display_data"
    }
   ],
   "source": [
    "from sklearn.metrics import mean_absolute_error\n",
    "val_mae = mean_absolute_error(val_y, val_predictions)\n",
    "\n",
    "# uncomment following line to see the validation_mae\n",
    "print(val_mae)\n",
    "\n",
    "# Check your answer\n",
    "step_4.check()"
   ]
  },
  {
   "cell_type": "code",
   "execution_count": 10,
   "id": "f310dc81",
   "metadata": {
    "execution": {
     "iopub.execute_input": "2024-08-15T00:01:15.272979Z",
     "iopub.status.busy": "2024-08-15T00:01:15.272538Z",
     "iopub.status.idle": "2024-08-15T00:01:15.277691Z",
     "shell.execute_reply": "2024-08-15T00:01:15.276552Z"
    },
    "papermill": {
     "duration": 0.017238,
     "end_time": "2024-08-15T00:01:15.280128",
     "exception": false,
     "start_time": "2024-08-15T00:01:15.262890",
     "status": "completed"
    },
    "tags": []
   },
   "outputs": [],
   "source": [
    "# step_4.hint()\n",
    "# step_4.solution()"
   ]
  },
  {
   "cell_type": "markdown",
   "id": "28572b04",
   "metadata": {
    "papermill": {
     "duration": 0.007719,
     "end_time": "2024-08-15T00:01:15.295998",
     "exception": false,
     "start_time": "2024-08-15T00:01:15.288279",
     "status": "completed"
    },
    "tags": []
   },
   "source": [
    "Is that MAE good?  There isn't a general rule for what values are good that applies across applications. But you'll see how to use (and improve) this number in the next step.\n",
    "\n",
    "# Keep Going\n",
    "\n",
    "You are ready for **[Underfitting and Overfitting](https://www.kaggle.com/dansbecker/underfitting-and-overfitting).**\n"
   ]
  },
  {
   "cell_type": "markdown",
   "id": "3cb1e8cd",
   "metadata": {
    "papermill": {
     "duration": 0.00845,
     "end_time": "2024-08-15T00:01:15.312500",
     "exception": false,
     "start_time": "2024-08-15T00:01:15.304050",
     "status": "completed"
    },
    "tags": []
   },
   "source": [
    "---\n",
    "\n",
    "\n",
    "\n",
    "\n",
    "*Have questions or comments? Visit the [course discussion forum](https://www.kaggle.com/learn/intro-to-machine-learning/discussion) to chat with other learners.*"
   ]
  }
 ],
 "metadata": {
  "kaggle": {
   "accelerator": "none",
   "dataSources": [
    {
     "databundleVersionId": 111096,
     "sourceId": 10211,
     "sourceType": "competition"
    },
    {
     "datasetId": 11167,
     "sourceId": 15520,
     "sourceType": "datasetVersion"
    },
    {
     "datasetId": 2709,
     "sourceId": 38454,
     "sourceType": "datasetVersion"
    }
   ],
   "isGpuEnabled": false,
   "isInternetEnabled": false,
   "language": "python",
   "sourceType": "notebook"
  },
  "kernelspec": {
   "display_name": "Python 3",
   "language": "python",
   "name": "python3"
  },
  "language_info": {
   "codemirror_mode": {
    "name": "ipython",
    "version": 3
   },
   "file_extension": ".py",
   "mimetype": "text/x-python",
   "name": "python",
   "nbconvert_exporter": "python",
   "pygments_lexer": "ipython3",
   "version": "3.10.13"
  },
  "papermill": {
   "default_parameters": {},
   "duration": 7.279314,
   "end_time": "2024-08-15T00:01:16.043014",
   "environment_variables": {},
   "exception": null,
   "input_path": "__notebook__.ipynb",
   "output_path": "__notebook__.ipynb",
   "parameters": {},
   "start_time": "2024-08-15T00:01:08.763700",
   "version": "2.5.0"
  }
 },
 "nbformat": 4,
 "nbformat_minor": 5
}
