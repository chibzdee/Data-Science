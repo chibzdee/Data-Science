{
 "cells": [
  {
   "cell_type": "code",
   "execution_count": 1,
   "metadata": {},
   "outputs": [],
   "source": [
    "import numpy as np"
   ]
  },
  {
   "cell_type": "code",
   "execution_count": 2,
   "metadata": {},
   "outputs": [],
   "source": [
    "def swap_rows(M, row_index_1:int, row_index_2:int):\n",
    "    \n",
    "    \"\"\"\n",
    "    Swap rows in a given matrix\n",
    "\n",
    "    Parameters:\n",
    "        - M: matrix (numpy.array), The input matrix to perform row operations (swaps) on\n",
    "        - row_index_1 (int): The index of the first row to be swapped\n",
    "        - row_index_2 (int): The index of the second row to be swapped\n",
    "    \"\"\"\n",
    "\n",
    "    # copy matrix M so the changes do not affect the original matrix.\n",
    "    M = M.copy()\n",
    "\n",
    "    # swap indexes\n",
    "    M[[row_index_1, row_index_2]] = M[[row_index_2, row_index_1]]\n",
    "\n",
    "    return M\n",
    "    "
   ]
  },
  {
   "cell_type": "code",
   "execution_count": 3,
   "metadata": {},
   "outputs": [
    {
     "name": "stdout",
     "output_type": "stream",
     "text": [
      "[[ 1  3  6]\n",
      " [ 0 -5  2]\n",
      " [-4  5  8]]\n"
     ]
    }
   ],
   "source": [
    "M = np.array([[1, 3, 6], [0, -5, 2], [-4, 5, 8]])\n",
    "\n",
    "print(M)"
   ]
  },
  {
   "cell_type": "code",
   "execution_count": 4,
   "metadata": {},
   "outputs": [
    {
     "name": "stdout",
     "output_type": "stream",
     "text": [
      "[[-4  5  8]\n",
      " [ 0 -5  2]\n",
      " [ 1  3  6]]\n"
     ]
    }
   ],
   "source": [
    "M_swapped = swap_rows(M, 0, 2)\n",
    "print(M_swapped)"
   ]
  },
  {
   "cell_type": "markdown",
   "metadata": {},
   "source": [
    "Getting the index of the first non zero value in a column starting from a specified value"
   ]
  },
  {
   "cell_type": "code",
   "execution_count": 5,
   "metadata": {},
   "outputs": [],
   "source": [
    "def get_index_first_non_zero_value_from_column(M, column, starting_row):\n",
    "    \"\"\"\n",
    "    Retrieve the index of the first non-zero value in a specified column of the given matrix\n",
    "    \n",
    "    Parameters: \n",
    "        -matrix (numpy.array): The input matrix to search for non-zero values.\n",
    "        -column (int): The index of the column to search.\n",
    "        -starting_row (int): The starting row index for the search.\n",
    "\n",
    "    Returns:\n",
    "        int: The index of the first non-zero value in the specified column, starting form the given row.\n",
    "        Returns -1 if the non-zero value is found\n",
    "    \"\"\"\n",
    "    \n",
    "    #Get the column array starting from the specified row:\n",
    "    column_array = M[starting_row:, column]\n",
    "    for i, val in enumerate(column_array):\n",
    "        # Iterate over every value in the column array.\n",
    "        # To check for non-zero values, you must always use np.isclose instead of doing 'val == 0'\n",
    "        if not np.isclose(val, 0, atol = 1e-5):\n",
    "            # If one non-zero value is found, then adjust the index to match the correct index and return it.\n",
    "            index = i + starting_row\n",
    "            return index\n",
    "        \n",
    "    # If no non-zero value is found below it, return -1\n",
    "    return -1"
   ]
  },
  {
   "cell_type": "code",
   "execution_count": 6,
   "metadata": {},
   "outputs": [
    {
     "name": "stdout",
     "output_type": "stream",
     "text": [
      "[[ 0  5 -3  6  8]\n",
      " [ 0  6  3  8  1]\n",
      " [ 0  0  0  0  0]\n",
      " [ 0  0  0  0  7]\n",
      " [ 0  2  1  0  4]]\n"
     ]
    }
   ],
   "source": [
    "N = np.array([[0,5,-3,6,8], [0,6,3,8,1], [0,0,0,0,0], [0,0,0,0,7], [0,2,1,0,4]])\n",
    "print(N)"
   ]
  },
  {
   "cell_type": "raw",
   "metadata": {
    "vscode": {
     "languageId": "raw"
    }
   },
   "source": [
    "Matrix M:\n",
    "    Col-0  Col-1  Col-2\n",
    "Row-0   1     2     3\n",
    "Row-1   4     5     6\n",
    "Row-2   7     8     9\n"
   ]
  },
  {
   "cell_type": "code",
   "execution_count": 7,
   "metadata": {},
   "outputs": [
    {
     "name": "stdout",
     "output_type": "stream",
     "text": [
      "-1\n"
     ]
    }
   ],
   "source": [
    "print(get_index_first_non_zero_value_from_column(N, 0, 0))"
   ]
  },
  {
   "cell_type": "code",
   "execution_count": 8,
   "metadata": {},
   "outputs": [
    {
     "name": "stdout",
     "output_type": "stream",
     "text": [
      "3\n"
     ]
    }
   ],
   "source": [
    "print(get_index_first_non_zero_value_from_column(N, -1, 2))"
   ]
  },
  {
   "cell_type": "markdown",
   "metadata": {},
   "source": [
    "### Finding the first non-zero element for any row"
   ]
  },
  {
   "cell_type": "code",
   "execution_count": 9,
   "metadata": {},
   "outputs": [],
   "source": [
    "def get_index_first_non_zero_value_from_row(M, row, augmented = False):\n",
    "    \"\"\"\n",
    "    Find the index of the first non-zero value in the specified row\n",
    "\n",
    "    Parameters:\n",
    "     - matrix (numpy.array): The input matrix to search for non-zero values\n",
    "     - row (int): The index of the row to search\n",
    "     - augmented (bool): Pass this True if you are dealing with an augmented matrix,\n",
    "                        so it will ignore the constant values (the last column in the augmented matrix)\n",
    "        \n",
    "    Returns:\n",
    "        int: The index of the first non-zero value in the specified row.\n",
    "        Returns -1 if the first non-zero value is found.\n",
    "    \"\"\"\n",
    "\n",
    "    # Create a copy to avoid modofying the original matrix\n",
    "    M = M.copy()\n",
    "\n",
    "    # If it is an augmented matrix, then ignore the constant values\n",
    "    if augmented == True:\n",
    "        # Isolating the coefficient matrix (removing the constant terms)\n",
    "        M = M[:,:-1]\n",
    "    \n",
    "    # Get the desired row\n",
    "    row_array = M[row]\n",
    "    for i, val in enumerate(row_array):\n",
    "        # If finds a non-zero value, returs the index. Otherwise, returns -1.\n",
    "        if not np.isclose(val, 0, atol = 1e-5):\n",
    "            return i\n",
    "    return -1\n",
    "\n"
   ]
  },
  {
   "cell_type": "code",
   "execution_count": 10,
   "metadata": {},
   "outputs": [
    {
     "name": "stdout",
     "output_type": "stream",
     "text": [
      "[[ 0  5 -3  6  8]\n",
      " [ 0  6  3  8  1]\n",
      " [ 0  0  0  0  0]\n",
      " [ 0  0  0  0  7]\n",
      " [ 0  2  1  0  4]]\n"
     ]
    }
   ],
   "source": [
    "print(N)"
   ]
  },
  {
   "cell_type": "code",
   "execution_count": 11,
   "metadata": {},
   "outputs": [
    {
     "name": "stdout",
     "output_type": "stream",
     "text": [
      "Output for row 2: -1\n",
      "Output for row 3: 4\n"
     ]
    }
   ],
   "source": [
    "print(f'Output for row 2: {get_index_first_non_zero_value_from_row(N, 2)}')\n",
    "print(f'Output for row 3: {get_index_first_non_zero_value_from_row(N, 3)}')"
   ]
  },
  {
   "cell_type": "markdown",
   "metadata": {},
   "source": [
    "Now lets pass the argument augmented = True. This will make the algorithm consider N an augmented matrix, therefore the last column would be removed from consideration."
   ]
  },
  {
   "cell_type": "code",
   "execution_count": 12,
   "metadata": {},
   "outputs": [
    {
     "name": "stdout",
     "output_type": "stream",
     "text": [
      "Output for row 3: -1\n"
     ]
    }
   ],
   "source": [
    "print(f'Output for row 3: {get_index_first_non_zero_value_from_row(N, 3, augmented = True)}')"
   ]
  },
  {
   "cell_type": "markdown",
   "metadata": {},
   "source": [
    "### Constructing the augmented matrix"
   ]
  },
  {
   "cell_type": "code",
   "execution_count": 13,
   "metadata": {},
   "outputs": [],
   "source": [
    "def augmented_matrix(A, B):\n",
    "    \"\"\"\n",
    "    Create an augmented matrix by horizontally stacking two matrices A and B.\n",
    "\n",
    "    Parameters:\n",
    "    - A (numpy.array): First matrix.\n",
    "    - B (numpy.array): Second matrix.\n",
    "\n",
    "    Returns:\n",
    "    - numpy.array: Augmented matrix obtained by horizontally stacking A and B.\n",
    "    \"\"\"\n",
    "    augmented_M = np.hstack((A,B))\n",
    "    return augmented_M"
   ]
  },
  {
   "cell_type": "code",
   "execution_count": 14,
   "metadata": {},
   "outputs": [
    {
     "name": "stdout",
     "output_type": "stream",
     "text": [
      "[[1 2 3 1]\n",
      " [3 4 5 5]\n",
      " [4 5 6 7]]\n"
     ]
    }
   ],
   "source": [
    "A = np.array([[1,2,3], [3,4,5], [4,5,6]])\n",
    "B = np.array([[1], [5], [7]])\n",
    "\n",
    "print(augmented_matrix(A,B))"
   ]
  },
  {
   "cell_type": "markdown",
   "metadata": {},
   "source": [
    "### Solving the row-echelon form in a matrix"
   ]
  },
  {
   "cell_type": "code",
   "execution_count": 24,
   "metadata": {},
   "outputs": [],
   "source": [
    "def row_echelon_form(A, B):\n",
    "    \"\"\"\n",
    "    Utilizes elementary row operations to transform a given set of matrices,\n",
    "    which represent the coefficients and constant terms of a linear system, into row echelon form.\n",
    "\n",
    "    Parameters:\n",
    "        - A (numpy.array): The input square matrix of coefficients.\n",
    "        - B (numpy.array): The input column matrix of constant terms.\n",
    "\n",
    "    Returns:\n",
    "        numpy.array: A new augmented matrix in row echelon form with pivots as 1.\n",
    "    \"\"\"\n",
    "    # Before any computation, check if matrix A (coefficient matrix) has non-zero detreminant.\n",
    "    # It will use the numpy sub library np.linalg to compute it.\n",
    "\n",
    "    det_A = np.linalg.det(A)\n",
    "\n",
    "    # Returns \"Singular System\" if determinant is zero\n",
    "    if np.isclose(det_A, 0) == True:\n",
    "        return 'Singular System'\n",
    "    \n",
    "    # Make copies of the input matrices to avoid modifying the originals\n",
    "    A = A.copy()\n",
    "    B = B.copy()\n",
    "\n",
    "    # Convert the matrices to float to prevent integer division\n",
    "    A = A.astype('float64')\n",
    "    B = B.astype('float64')\n",
    "\n",
    "    # Number of rows in the coefficient matrix\n",
    "    num_rows = len(A)\n",
    "\n",
    "\n",
    "    # Transform the matrices A and B into the augmented matrix M\n",
    "    M = augmented_matrix(A, B) # The function is given in a different cell above\n",
    "\n",
    "    # Iterate over the rows\n",
    "    for row in range(num_rows):\n",
    "\n",
    "        # The first pivot candidate is always on the main diagonal\n",
    "        pivot_candidate = M[row,row]\n",
    "\n",
    "        # Check if the pivot candidate is zero\n",
    "        if np.isclose(pivot_candidate, 0) == True:\n",
    "            # Get the index of the first non-zero value below the pivot element\n",
    "            first_non_zero_value_below_pivot_element = get_index_first_non_zero_value_from_column(M, row, row)\n",
    "\n",
    "            # Swap rows\n",
    "            M = swap_rows(M, row, first_non_zero_value_below_pivot_element)\n",
    "\n",
    "            # Get the pivot which is in the main diagonal now\n",
    "            pivot = M[row, row]\n",
    "\n",
    "        # If pivot_candidate is already non-zero, then it is the pivot for this row\n",
    "        else:\n",
    "            pivot = pivot_candidate\n",
    "\n",
    "        # Time to perform the row reduction\n",
    "        # Divide the current row bu the pivot, so that the new pivot will be 1\n",
    "        # Using the formula current_row -> 1/pivot * current_row\n",
    "        # Where the current row can be accessed using M[row]\n",
    "        M[row] = 1/pivot * M[row]\n",
    "\n",
    "        # Perform row reduction for rows below the current row\n",
    "        for j in range(row + 1, num_rows):\n",
    "            value_below_pivot = M[j,row]\n",
    "\n",
    "            # Perform row reduction using the formular\n",
    "            # row_to_reduce -> row_to_reduce - value_below_pivot * pivot_row\n",
    "            M[j] = M[j] - value_below_pivot * M[row]\n",
    "\n",
    "\n",
    "    return M"
   ]
  },
  {
   "cell_type": "code",
   "execution_count": 25,
   "metadata": {},
   "outputs": [
    {
     "data": {
      "text/plain": [
       "array([[ 1.        , -0.5       ,  0.5       ,  0.5       ],\n",
       "       [ 0.        ,  1.        ,  1.        ,  0.33333333],\n",
       "       [-0.        , -0.        ,  1.        ,  0.8       ]])"
      ]
     },
     "execution_count": 25,
     "metadata": {},
     "output_type": "execute_result"
    }
   ],
   "source": [
    "A = np.array([[2,-1,1], [2,2,4], [4,1,0]])\n",
    "B = np.array([[1], [2], [-1]])\n",
    "\n",
    "row_echelon_form(A, B)"
   ]
  },
  {
   "cell_type": "markdown",
   "metadata": {},
   "source": [
    "Performing back substitution"
   ]
  },
  {
   "cell_type": "code",
   "execution_count": 26,
   "metadata": {},
   "outputs": [],
   "source": [
    "def back_substitution(M):\n",
    "    \"\"\"\n",
    "    Perform back substitution on an augmented matrix (with unique solution) in reduced row echelon form to find the solution to the linear system.\n",
    "\n",
    "    Parameters:\n",
    "    - M (numpy.array): The augmented matrix in row echelon form with unitary pivots (n x n+1).\n",
    "\n",
    "    Returns:\n",
    "    numpy.array: The solution vector of the linear system.\n",
    "    \"\"\"\n",
    "    \n",
    "    # Make a copy of the input matrix to avoid modifying the original\n",
    "    M = M.copy()\n",
    "\n",
    "    # Get the number of rows (and columns) in the matrix of coefficients\n",
    "    num_rows = M.shape[0]\n",
    "\n",
    "    ### START CODE HERE ####\n",
    "    \n",
    "    # Iterate from bottom to top\n",
    "    for row in reversed(range(num_rows)): \n",
    "        substitution_row = M[row,:]\n",
    "\n",
    "        # Get the index of the first non-zero element in the substitution row. Remember to pass the correct value to the argument augmented.\n",
    "        index = row\n",
    "\n",
    "        # Iterate over the rows above the substitution_row\n",
    "        for j in range(row): \n",
    "\n",
    "            # Get the row to be reduced. The indexing here is similar as above, with the row variable replaced by the j variable.\n",
    "            row_to_reduce = M[j,:]\n",
    "\n",
    "            # Get the value of the element at the found index in the row to reduce\n",
    "            value = row_to_reduce[index]\n",
    "            \n",
    "            # Perform the back substitution step using the formula row_to_reduce -> row_to_reduce - value * substitution_row\n",
    "            row_to_reduce = row_to_reduce - value * substitution_row\n",
    "\n",
    "            # Replace the updated row in the matrix, be careful with indexing!\n",
    "            M[j,:] = row_to_reduce\n",
    "\n",
    "    ### END CODE HERE ####\n",
    "\n",
    "     # Extract the solution from the last column\n",
    "    solution = M[:,-1]\n",
    "    \n",
    "    return solution"
   ]
  },
  {
   "cell_type": "code",
   "execution_count": 27,
   "metadata": {},
   "outputs": [],
   "source": [
    "def gaussian_elimination(A, B):\n",
    "    \"\"\"\n",
    "    Solve a linear system represented by an augmented matrix using the Gaussian elimination method.\n",
    "\n",
    "    Parameters:\n",
    "    - A (numpy.array): Square matrix of size n x n representing the coefficients of the linear system\n",
    "    - B (numpy.array): Column matrix of size 1 x n representing the constant terms.\n",
    "\n",
    "    Returns:\n",
    "    numpy.array: The solution vector.\n",
    "    \"\"\"\n",
    "\n",
    "    ### START CODE HERE ###\n",
    "\n",
    "    # Get the matrix in row echelon form\n",
    "    row_echelon_M = row_echelon_form(A, B)\n",
    "\n",
    "    # Since the system is non-singular (by our assumptions), then perform back substitution to get the result. \n",
    "    solution = back_substitution(row_echelon_M)\n",
    "\n",
    "    ### END SOLUTION HERE ###\n",
    "\n",
    "    return solution\n",
    "        "
   ]
  },
  {
   "cell_type": "code",
   "execution_count": null,
   "metadata": {},
   "outputs": [],
   "source": []
  }
 ],
 "metadata": {
  "kernelspec": {
   "display_name": "Python 3",
   "language": "python",
   "name": "python3"
  },
  "language_info": {
   "codemirror_mode": {
    "name": "ipython",
    "version": 3
   },
   "file_extension": ".py",
   "mimetype": "text/x-python",
   "name": "python",
   "nbconvert_exporter": "python",
   "pygments_lexer": "ipython3",
   "version": "3.12.5"
  }
 },
 "nbformat": 4,
 "nbformat_minor": 2
}
