{
 "cells": [
  {
   "cell_type": "markdown",
   "id": "42545d84",
   "metadata": {
    "papermill": {
     "duration": 0.008395,
     "end_time": "2024-08-16T23:55:59.477640",
     "exception": false,
     "start_time": "2024-08-16T23:55:59.469245",
     "status": "completed"
    },
    "tags": []
   },
   "source": [
    "**This notebook is an exercise in the [Intermediate Machine Learning](https://www.kaggle.com/learn/intermediate-machine-learning) course.  You can reference the tutorial at [this link](https://www.kaggle.com/alexisbcook/xgboost).**\n",
    "\n",
    "---\n"
   ]
  },
  {
   "cell_type": "markdown",
   "id": "3201d8db",
   "metadata": {
    "papermill": {
     "duration": 0.006609,
     "end_time": "2024-08-16T23:55:59.492120",
     "exception": false,
     "start_time": "2024-08-16T23:55:59.485511",
     "status": "completed"
    },
    "tags": []
   },
   "source": [
    "In this exercise, you will use your new knowledge to train a model with **gradient boosting**.\n",
    "\n",
    "# Setup\n",
    "\n",
    "The questions below will give you feedback on your work. Run the following cell to set up the feedback system."
   ]
  },
  {
   "cell_type": "code",
   "execution_count": 1,
   "id": "7aa42be9",
   "metadata": {
    "execution": {
     "iopub.execute_input": "2024-08-16T23:55:59.507604Z",
     "iopub.status.busy": "2024-08-16T23:55:59.507133Z",
     "iopub.status.idle": "2024-08-16T23:56:02.849705Z",
     "shell.execute_reply": "2024-08-16T23:56:02.839055Z"
    },
    "papermill": {
     "duration": 3.35411,
     "end_time": "2024-08-16T23:56:02.852950",
     "exception": false,
     "start_time": "2024-08-16T23:55:59.498840",
     "status": "completed"
    },
    "tags": []
   },
   "outputs": [
    {
     "name": "stdout",
     "output_type": "stream",
     "text": [
      "Setup Complete\n"
     ]
    }
   ],
   "source": [
    "# Set up code checking\n",
    "import os\n",
    "if not os.path.exists(\"../input/train.csv\"):\n",
    "    os.symlink(\"../input/home-data-for-ml-course/train.csv\", \"../input/train.csv\")  \n",
    "    os.symlink(\"../input/home-data-for-ml-course/test.csv\", \"../input/test.csv\") \n",
    "from learntools.core import binder\n",
    "binder.bind(globals())\n",
    "from learntools.ml_intermediate.ex6 import *\n",
    "print(\"Setup Complete\")"
   ]
  },
  {
   "cell_type": "markdown",
   "id": "0c6f1255",
   "metadata": {
    "papermill": {
     "duration": 0.006493,
     "end_time": "2024-08-16T23:56:02.866388",
     "exception": false,
     "start_time": "2024-08-16T23:56:02.859895",
     "status": "completed"
    },
    "tags": []
   },
   "source": [
    "You will work with the [Housing Prices Competition for Kaggle Learn Users](https://www.kaggle.com/c/home-data-for-ml-course) dataset from the previous exercise. \n",
    "\n",
    "![Ames Housing dataset image](https://storage.googleapis.com/kaggle-media/learn/images/lTJVG4e.png)\n",
    "\n",
    "Run the next code cell without changes to load the training and validation sets in `X_train`, `X_valid`, `y_train`, and `y_valid`.  The test set is loaded in `X_test`."
   ]
  },
  {
   "cell_type": "code",
   "execution_count": 2,
   "id": "6f1748e7",
   "metadata": {
    "execution": {
     "iopub.execute_input": "2024-08-16T23:56:02.881795Z",
     "iopub.status.busy": "2024-08-16T23:56:02.881355Z",
     "iopub.status.idle": "2024-08-16T23:56:03.076634Z",
     "shell.execute_reply": "2024-08-16T23:56:03.075471Z"
    },
    "papermill": {
     "duration": 0.206165,
     "end_time": "2024-08-16T23:56:03.079484",
     "exception": false,
     "start_time": "2024-08-16T23:56:02.873319",
     "status": "completed"
    },
    "tags": []
   },
   "outputs": [],
   "source": [
    "import pandas as pd\n",
    "from sklearn.model_selection import train_test_split\n",
    "\n",
    "# Read the data\n",
    "X = pd.read_csv('../input/train.csv', index_col='Id')\n",
    "X_test_full = pd.read_csv('../input/test.csv', index_col='Id')\n",
    "\n",
    "# Remove rows with missing target, separate target from predictors\n",
    "X.dropna(axis=0, subset=['SalePrice'], inplace=True)\n",
    "y = X.SalePrice              \n",
    "X.drop(['SalePrice'], axis=1, inplace=True)\n",
    "\n",
    "# Break off validation set from training data\n",
    "X_train_full, X_valid_full, y_train, y_valid = train_test_split(X, y, train_size=0.8, test_size=0.2,\n",
    "                                                                random_state=0)\n",
    "\n",
    "# \"Cardinality\" means the number of unique values in a column\n",
    "# Select categorical columns with relatively low cardinality (convenient but arbitrary)\n",
    "low_cardinality_cols = [cname for cname in X_train_full.columns if X_train_full[cname].nunique() < 10 and \n",
    "                        X_train_full[cname].dtype == \"object\"]\n",
    "\n",
    "# Select numeric columns\n",
    "numeric_cols = [cname for cname in X_train_full.columns if X_train_full[cname].dtype in ['int64', 'float64']]\n",
    "\n",
    "# Keep selected columns only\n",
    "my_cols = low_cardinality_cols + numeric_cols\n",
    "X_train = X_train_full[my_cols].copy()\n",
    "X_valid = X_valid_full[my_cols].copy()\n",
    "X_test = X_test_full[my_cols].copy()\n",
    "\n",
    "# One-hot encode the data (to shorten the code, we use pandas)\n",
    "X_train = pd.get_dummies(X_train)\n",
    "X_valid = pd.get_dummies(X_valid)\n",
    "X_test = pd.get_dummies(X_test)\n",
    "X_train, X_valid = X_train.align(X_valid, join='left', axis=1)\n",
    "X_train, X_test = X_train.align(X_test, join='left', axis=1)"
   ]
  },
  {
   "cell_type": "markdown",
   "id": "e056d745",
   "metadata": {
    "papermill": {
     "duration": 0.006444,
     "end_time": "2024-08-16T23:56:03.092725",
     "exception": false,
     "start_time": "2024-08-16T23:56:03.086281",
     "status": "completed"
    },
    "tags": []
   },
   "source": [
    "# Step 1: Build model\n",
    "\n",
    "### Part A\n",
    "\n",
    "In this step, you'll build and train your first model with gradient boosting.\n",
    "\n",
    "- Begin by setting `my_model_1` to an XGBoost model.  Use the [XGBRegressor](https://xgboost.readthedocs.io/en/latest/python/python_api.html#xgboost.XGBRegressor) class, and set the random seed to 0 (`random_state=0`).  **Leave all other parameters as default.**\n",
    "- Then, fit the model to the training data in `X_train` and `y_train`."
   ]
  },
  {
   "cell_type": "code",
   "execution_count": 3,
   "id": "9399d89f",
   "metadata": {
    "execution": {
     "iopub.execute_input": "2024-08-16T23:56:03.107875Z",
     "iopub.status.busy": "2024-08-16T23:56:03.107489Z",
     "iopub.status.idle": "2024-08-16T23:56:03.690248Z",
     "shell.execute_reply": "2024-08-16T23:56:03.689251Z"
    },
    "papermill": {
     "duration": 0.593682,
     "end_time": "2024-08-16T23:56:03.693195",
     "exception": false,
     "start_time": "2024-08-16T23:56:03.099513",
     "status": "completed"
    },
    "tags": []
   },
   "outputs": [
    {
     "data": {
      "application/javascript": [
       "parent.postMessage({\"jupyterEvent\": \"custom.exercise_interaction\", \"data\": {\"outcomeType\": 1, \"valueTowardsCompletion\": 0.5, \"interactionType\": 1, \"questionType\": 2, \"questionId\": \"1.1_Model1A\", \"learnToolsVersion\": \"0.3.4\", \"failureMessage\": \"\", \"exceptionClass\": \"\", \"trace\": \"\"}}, \"*\")"
      ],
      "text/plain": [
       "<IPython.core.display.Javascript object>"
      ]
     },
     "metadata": {},
     "output_type": "display_data"
    },
    {
     "data": {
      "text/markdown": [
       "<span style=\"color:#33cc33\">Correct</span>"
      ],
      "text/plain": [
       "Correct"
      ]
     },
     "metadata": {},
     "output_type": "display_data"
    }
   ],
   "source": [
    "from xgboost import XGBRegressor\n",
    "\n",
    "# Define the model\n",
    "my_model_1 = XGBRegressor(random_state=0)\n",
    "\n",
    "# Fit the model\n",
    "my_model_1.fit(X_train, y_train)\n",
    "\n",
    "# Check your answer\n",
    "step_1.a.check()"
   ]
  },
  {
   "cell_type": "code",
   "execution_count": 4,
   "id": "de30f2c3",
   "metadata": {
    "execution": {
     "iopub.execute_input": "2024-08-16T23:56:03.711399Z",
     "iopub.status.busy": "2024-08-16T23:56:03.710970Z",
     "iopub.status.idle": "2024-08-16T23:56:03.715945Z",
     "shell.execute_reply": "2024-08-16T23:56:03.714798Z"
    },
    "papermill": {
     "duration": 0.017325,
     "end_time": "2024-08-16T23:56:03.718867",
     "exception": false,
     "start_time": "2024-08-16T23:56:03.701542",
     "status": "completed"
    },
    "tags": []
   },
   "outputs": [],
   "source": [
    "# Lines below will give you a hint or solution code\n",
    "#step_1.a.hint()\n",
    "#step_1.a.solution()"
   ]
  },
  {
   "cell_type": "markdown",
   "id": "9a35e611",
   "metadata": {
    "papermill": {
     "duration": 0.009834,
     "end_time": "2024-08-16T23:56:03.739063",
     "exception": false,
     "start_time": "2024-08-16T23:56:03.729229",
     "status": "completed"
    },
    "tags": []
   },
   "source": [
    "### Part B\n",
    "\n",
    "Set `predictions_1` to the model's predictions for the validation data.  Recall that the validation features are stored in `X_valid`."
   ]
  },
  {
   "cell_type": "code",
   "execution_count": 5,
   "id": "7b85e16a",
   "metadata": {
    "execution": {
     "iopub.execute_input": "2024-08-16T23:56:03.761657Z",
     "iopub.status.busy": "2024-08-16T23:56:03.761102Z",
     "iopub.status.idle": "2024-08-16T23:56:03.873683Z",
     "shell.execute_reply": "2024-08-16T23:56:03.868192Z"
    },
    "papermill": {
     "duration": 0.126997,
     "end_time": "2024-08-16T23:56:03.876399",
     "exception": false,
     "start_time": "2024-08-16T23:56:03.749402",
     "status": "completed"
    },
    "tags": []
   },
   "outputs": [
    {
     "data": {
      "application/javascript": [
       "parent.postMessage({\"jupyterEvent\": \"custom.exercise_interaction\", \"data\": {\"outcomeType\": 1, \"valueTowardsCompletion\": 0.5, \"interactionType\": 1, \"questionType\": 2, \"questionId\": \"1.2_Model1B\", \"learnToolsVersion\": \"0.3.4\", \"failureMessage\": \"\", \"exceptionClass\": \"\", \"trace\": \"\"}}, \"*\")"
      ],
      "text/plain": [
       "<IPython.core.display.Javascript object>"
      ]
     },
     "metadata": {},
     "output_type": "display_data"
    },
    {
     "data": {
      "text/markdown": [
       "<span style=\"color:#33cc33\">Correct</span>"
      ],
      "text/plain": [
       "Correct"
      ]
     },
     "metadata": {},
     "output_type": "display_data"
    }
   ],
   "source": [
    "from sklearn.metrics import mean_absolute_error\n",
    "\n",
    "# Get predictions\n",
    "predictions_1 = my_model_1.predict(X_valid)\n",
    "\n",
    "# Check your answer\n",
    "step_1.b.check()"
   ]
  },
  {
   "cell_type": "code",
   "execution_count": 6,
   "id": "43a3e0e6",
   "metadata": {
    "execution": {
     "iopub.execute_input": "2024-08-16T23:56:03.895646Z",
     "iopub.status.busy": "2024-08-16T23:56:03.895149Z",
     "iopub.status.idle": "2024-08-16T23:56:03.899867Z",
     "shell.execute_reply": "2024-08-16T23:56:03.898783Z"
    },
    "papermill": {
     "duration": 0.017347,
     "end_time": "2024-08-16T23:56:03.902648",
     "exception": false,
     "start_time": "2024-08-16T23:56:03.885301",
     "status": "completed"
    },
    "tags": []
   },
   "outputs": [],
   "source": [
    "# Lines below will give you a hint or solution code\n",
    "#step_1.b.hint()\n",
    "#step_1.b.solution()"
   ]
  },
  {
   "cell_type": "markdown",
   "id": "738ae987",
   "metadata": {
    "papermill": {
     "duration": 0.010043,
     "end_time": "2024-08-16T23:56:03.923693",
     "exception": false,
     "start_time": "2024-08-16T23:56:03.913650",
     "status": "completed"
    },
    "tags": []
   },
   "source": [
    "### Part C\n",
    "\n",
    "Finally, use the `mean_absolute_error()` function to calculate the mean absolute error (MAE) corresponding to the predictions for the validation set.  Recall that the labels for the validation data are stored in `y_valid`."
   ]
  },
  {
   "cell_type": "code",
   "execution_count": 7,
   "id": "627a48c3",
   "metadata": {
    "execution": {
     "iopub.execute_input": "2024-08-16T23:56:03.941072Z",
     "iopub.status.busy": "2024-08-16T23:56:03.940569Z",
     "iopub.status.idle": "2024-08-16T23:56:03.953703Z",
     "shell.execute_reply": "2024-08-16T23:56:03.952620Z"
    },
    "papermill": {
     "duration": 0.024726,
     "end_time": "2024-08-16T23:56:03.956071",
     "exception": false,
     "start_time": "2024-08-16T23:56:03.931345",
     "status": "completed"
    },
    "tags": []
   },
   "outputs": [
    {
     "data": {
      "application/javascript": [
       "parent.postMessage({\"jupyterEvent\": \"custom.exercise_interaction\", \"data\": {\"outcomeType\": 1, \"valueTowardsCompletion\": 0.5, \"interactionType\": 1, \"questionType\": 2, \"questionId\": \"1.3_Model1C\", \"learnToolsVersion\": \"0.3.4\", \"failureMessage\": \"\", \"exceptionClass\": \"\", \"trace\": \"\"}}, \"*\")"
      ],
      "text/plain": [
       "<IPython.core.display.Javascript object>"
      ]
     },
     "metadata": {},
     "output_type": "display_data"
    },
    {
     "data": {
      "text/markdown": [
       "<span style=\"color:#33cc33\">Correct</span>"
      ],
      "text/plain": [
       "Correct"
      ]
     },
     "metadata": {},
     "output_type": "display_data"
    }
   ],
   "source": [
    "# Calculate MAE\n",
    "mae_1 = mean_absolute_error(y_valid, predictions_1)\n",
    "\n",
    "# Uncomment to print MAE\n",
    "# print(\"Mean Absolute Error:\" , mae_1)\n",
    "\n",
    "# Check your answer\n",
    "step_1.c.check()"
   ]
  },
  {
   "cell_type": "code",
   "execution_count": 8,
   "id": "640940b6",
   "metadata": {
    "execution": {
     "iopub.execute_input": "2024-08-16T23:56:03.974086Z",
     "iopub.status.busy": "2024-08-16T23:56:03.973558Z",
     "iopub.status.idle": "2024-08-16T23:56:03.978732Z",
     "shell.execute_reply": "2024-08-16T23:56:03.977627Z"
    },
    "papermill": {
     "duration": 0.017417,
     "end_time": "2024-08-16T23:56:03.981481",
     "exception": false,
     "start_time": "2024-08-16T23:56:03.964064",
     "status": "completed"
    },
    "tags": []
   },
   "outputs": [],
   "source": [
    "# Lines below will give you a hint or solution code\n",
    "#step_1.c.hint()\n",
    "#step_1.c.solution()"
   ]
  },
  {
   "cell_type": "markdown",
   "id": "04424333",
   "metadata": {
    "papermill": {
     "duration": 0.009406,
     "end_time": "2024-08-16T23:56:04.002142",
     "exception": false,
     "start_time": "2024-08-16T23:56:03.992736",
     "status": "completed"
    },
    "tags": []
   },
   "source": [
    "# Step 2: Improve the model\n",
    "\n",
    "Now that you've trained a default model as baseline, it's time to tinker with the parameters, to see if you can get better performance!\n",
    "- Begin by setting `my_model_2` to an XGBoost model, using the [XGBRegressor](https://xgboost.readthedocs.io/en/latest/python/python_api.html#xgboost.XGBRegressor) class.  Use what you learned in the previous tutorial to figure out how to change the default parameters (like `n_estimators` and `learning_rate`) to get better results.\n",
    "- Then, fit the model to the training data in `X_train` and `y_train`.\n",
    "- Set `predictions_2` to the model's predictions for the validation data.  Recall that the validation features are stored in `X_valid`.\n",
    "- Finally, use the `mean_absolute_error()` function to calculate the mean absolute error (MAE) corresponding to the predictions on the validation set.  Recall that the labels for the validation data are stored in `y_valid`.\n",
    "\n",
    "In order for this step to be marked correct, your model in `my_model_2` must attain lower MAE than the model in `my_model_1`. "
   ]
  },
  {
   "cell_type": "code",
   "execution_count": 9,
   "id": "809cd245",
   "metadata": {
    "execution": {
     "iopub.execute_input": "2024-08-16T23:56:04.021588Z",
     "iopub.status.busy": "2024-08-16T23:56:04.021077Z",
     "iopub.status.idle": "2024-08-16T23:56:05.457210Z",
     "shell.execute_reply": "2024-08-16T23:56:05.456270Z"
    },
    "papermill": {
     "duration": 1.448489,
     "end_time": "2024-08-16T23:56:05.459665",
     "exception": false,
     "start_time": "2024-08-16T23:56:04.011176",
     "status": "completed"
    },
    "tags": []
   },
   "outputs": [
    {
     "name": "stderr",
     "output_type": "stream",
     "text": [
      "/opt/conda/lib/python3.10/site-packages/xgboost/sklearn.py:889: UserWarning: `early_stopping_rounds` in `fit` method is deprecated for better compatibility with scikit-learn, use `early_stopping_rounds` in constructor or`set_params` instead.\n",
      "  warnings.warn(\n"
     ]
    },
    {
     "name": "stdout",
     "output_type": "stream",
     "text": [
      "Mean Absolute Error: 17875.429205907534\n"
     ]
    },
    {
     "data": {
      "application/javascript": [
       "parent.postMessage({\"jupyterEvent\": \"custom.exercise_interaction\", \"data\": {\"outcomeType\": 1, \"valueTowardsCompletion\": 0.5, \"interactionType\": 1, \"questionType\": 2, \"questionId\": \"2_Model2\", \"learnToolsVersion\": \"0.3.4\", \"failureMessage\": \"\", \"exceptionClass\": \"\", \"trace\": \"\"}}, \"*\")"
      ],
      "text/plain": [
       "<IPython.core.display.Javascript object>"
      ]
     },
     "metadata": {},
     "output_type": "display_data"
    },
    {
     "data": {
      "text/markdown": [
       "<span style=\"color:#33cc33\">Correct</span>"
      ],
      "text/plain": [
       "Correct"
      ]
     },
     "metadata": {},
     "output_type": "display_data"
    }
   ],
   "source": [
    "# Define the model\n",
    "my_model_2 = XGBRegressor(random_state=50, n_estimators=100)\n",
    "\n",
    "# Fit the model\n",
    "my_model_2.fit(X_train, y_train, early_stopping_rounds=5, eval_set=[(X_valid, y_valid)],\n",
    "             verbose=False)\n",
    "\n",
    "# Get predictions\n",
    "predictions_2 = my_model_2.predict(X_valid)\n",
    "\n",
    "# Calculate MAE\n",
    "mae_2 = mean_absolute_error(y_valid, predictions_2)\n",
    "\n",
    "# Uncomment to print MAE\n",
    "print(\"Mean Absolute Error:\" , mae_2)\n",
    "\n",
    "# Check your answer\n",
    "step_2.check()"
   ]
  },
  {
   "cell_type": "code",
   "execution_count": 10,
   "id": "5abc6095",
   "metadata": {
    "execution": {
     "iopub.execute_input": "2024-08-16T23:56:05.479915Z",
     "iopub.status.busy": "2024-08-16T23:56:05.478986Z",
     "iopub.status.idle": "2024-08-16T23:56:05.483895Z",
     "shell.execute_reply": "2024-08-16T23:56:05.482796Z"
    },
    "papermill": {
     "duration": 0.016961,
     "end_time": "2024-08-16T23:56:05.486171",
     "exception": false,
     "start_time": "2024-08-16T23:56:05.469210",
     "status": "completed"
    },
    "tags": []
   },
   "outputs": [],
   "source": [
    "# Lines below will give you a hint or solution code\n",
    "#step_2.hint()\n",
    "#step_2.solution()"
   ]
  },
  {
   "cell_type": "markdown",
   "id": "224cab67",
   "metadata": {
    "papermill": {
     "duration": 0.008437,
     "end_time": "2024-08-16T23:56:05.503551",
     "exception": false,
     "start_time": "2024-08-16T23:56:05.495114",
     "status": "completed"
    },
    "tags": []
   },
   "source": [
    "# Step 3: Break the model\n",
    "\n",
    "In this step, you will create a model that performs worse than the original model in Step 1.  This will help you to develop your intuition for how to set parameters.  You might even find that you accidentally get better performance, which is ultimately a nice problem to have and a valuable learning experience!\n",
    "- Begin by setting `my_model_3` to an XGBoost model, using the [XGBRegressor](https://xgboost.readthedocs.io/en/latest/python/python_api.html#xgboost.XGBRegressor) class.  Use what you learned in the previous tutorial to figure out how to change the default parameters (like `n_estimators` and `learning_rate`) to design a model to get high MAE.\n",
    "- Then, fit the model to the training data in `X_train` and `y_train`.\n",
    "- Set `predictions_3` to the model's predictions for the validation data.  Recall that the validation features are stored in `X_valid`.\n",
    "- Finally, use the `mean_absolute_error()` function to calculate the mean absolute error (MAE) corresponding to the predictions on the validation set.  Recall that the labels for the validation data are stored in `y_valid`.\n",
    "\n",
    "In order for this step to be marked correct, your model in `my_model_3` must attain higher MAE than the model in `my_model_1`. "
   ]
  },
  {
   "cell_type": "code",
   "execution_count": 11,
   "id": "31b263cf",
   "metadata": {
    "execution": {
     "iopub.execute_input": "2024-08-16T23:56:05.522737Z",
     "iopub.status.busy": "2024-08-16T23:56:05.521781Z",
     "iopub.status.idle": "2024-08-16T23:56:05.679026Z",
     "shell.execute_reply": "2024-08-16T23:56:05.678025Z"
    },
    "papermill": {
     "duration": 0.169209,
     "end_time": "2024-08-16T23:56:05.681244",
     "exception": false,
     "start_time": "2024-08-16T23:56:05.512035",
     "status": "completed"
    },
    "tags": []
   },
   "outputs": [
    {
     "name": "stdout",
     "output_type": "stream",
     "text": [
      "Mean Absolute Error: 42678.815550085616\n"
     ]
    },
    {
     "data": {
      "application/javascript": [
       "parent.postMessage({\"jupyterEvent\": \"custom.exercise_interaction\", \"data\": {\"outcomeType\": 1, \"valueTowardsCompletion\": 0.5, \"interactionType\": 1, \"questionType\": 2, \"questionId\": \"3_Model3\", \"learnToolsVersion\": \"0.3.4\", \"failureMessage\": \"\", \"exceptionClass\": \"\", \"trace\": \"\"}}, \"*\")"
      ],
      "text/plain": [
       "<IPython.core.display.Javascript object>"
      ]
     },
     "metadata": {},
     "output_type": "display_data"
    },
    {
     "data": {
      "text/markdown": [
       "<span style=\"color:#33cc33\">Correct</span>"
      ],
      "text/plain": [
       "Correct"
      ]
     },
     "metadata": {},
     "output_type": "display_data"
    }
   ],
   "source": [
    "# Define the model\n",
    "my_model_3 = XGBRegressor(n_estimators=1)\n",
    "\n",
    "# Fit the model\n",
    "my_model_3.fit(X_train, y_train)\n",
    "\n",
    "# Get predictions\n",
    "predictions_3 = my_model_3.predict(X_valid)\n",
    "\n",
    "# Calculate MAE\n",
    "mae_3 = mean_absolute_error(y_valid, predictions_3)\n",
    "\n",
    "# Uncomment to print MAE\n",
    "print(\"Mean Absolute Error:\" , mae_3)\n",
    "\n",
    "# Check your answer\n",
    "step_3.check()"
   ]
  },
  {
   "cell_type": "code",
   "execution_count": 12,
   "id": "0fbba865",
   "metadata": {
    "execution": {
     "iopub.execute_input": "2024-08-16T23:56:05.702787Z",
     "iopub.status.busy": "2024-08-16T23:56:05.702391Z",
     "iopub.status.idle": "2024-08-16T23:56:05.707620Z",
     "shell.execute_reply": "2024-08-16T23:56:05.706541Z"
    },
    "papermill": {
     "duration": 0.018374,
     "end_time": "2024-08-16T23:56:05.710212",
     "exception": false,
     "start_time": "2024-08-16T23:56:05.691838",
     "status": "completed"
    },
    "tags": []
   },
   "outputs": [],
   "source": [
    "# Lines below will give you a hint or solution code\n",
    "#step_3.hint()\n",
    "#step_3.solution()"
   ]
  },
  {
   "cell_type": "markdown",
   "id": "40d150bd",
   "metadata": {
    "papermill": {
     "duration": 0.008679,
     "end_time": "2024-08-16T23:56:05.728010",
     "exception": false,
     "start_time": "2024-08-16T23:56:05.719331",
     "status": "completed"
    },
    "tags": []
   },
   "source": [
    "# Keep going\n",
    "\n",
    "Continue to learn about **[data leakage](https://www.kaggle.com/alexisbcook/data-leakage)**.  This is an important issue for a data scientist to understand, and it has the potential to ruin your models in subtle and dangerous ways!"
   ]
  },
  {
   "cell_type": "markdown",
   "id": "1d1c76cd",
   "metadata": {
    "papermill": {
     "duration": 0.008779,
     "end_time": "2024-08-16T23:56:05.745789",
     "exception": false,
     "start_time": "2024-08-16T23:56:05.737010",
     "status": "completed"
    },
    "tags": []
   },
   "source": [
    "---\n",
    "\n",
    "\n",
    "\n",
    "\n",
    "*Have questions or comments? Visit the [course discussion forum](https://www.kaggle.com/learn/intermediate-machine-learning/discussion) to chat with other learners.*"
   ]
  }
 ],
 "metadata": {
  "kaggle": {
   "accelerator": "none",
   "dataSources": [
    {
     "databundleVersionId": 111096,
     "sourceId": 10211,
     "sourceType": "competition"
    }
   ],
   "isGpuEnabled": false,
   "isInternetEnabled": false,
   "language": "python",
   "sourceType": "notebook"
  },
  "kernelspec": {
   "display_name": "Python 3",
   "language": "python",
   "name": "python3"
  },
  "language_info": {
   "codemirror_mode": {
    "name": "ipython",
    "version": 3
   },
   "file_extension": ".py",
   "mimetype": "text/x-python",
   "name": "python",
   "nbconvert_exporter": "python",
   "pygments_lexer": "ipython3",
   "version": "3.10.13"
  },
  "papermill": {
   "default_parameters": {},
   "duration": 9.905971,
   "end_time": "2024-08-16T23:56:06.375865",
   "environment_variables": {},
   "exception": null,
   "input_path": "__notebook__.ipynb",
   "output_path": "__notebook__.ipynb",
   "parameters": {},
   "start_time": "2024-08-16T23:55:56.469894",
   "version": "2.5.0"
  }
 },
 "nbformat": 4,
 "nbformat_minor": 5
}
