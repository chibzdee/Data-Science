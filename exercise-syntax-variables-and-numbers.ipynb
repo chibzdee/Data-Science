{
 "cells": [
  {
   "cell_type": "markdown",
   "id": "07152ca1",
   "metadata": {
    "papermill": {
     "duration": 0.009028,
     "end_time": "2024-08-14T19:01:21.168728",
     "exception": false,
     "start_time": "2024-08-14T19:01:21.159700",
     "status": "completed"
    },
    "tags": []
   },
   "source": [
    "**This notebook is an exercise in the [Python](https://www.kaggle.com/learn/python) course.  You can reference the tutorial at [this link](https://www.kaggle.com/colinmorris/hello-python).**\n",
    "\n",
    "---\n"
   ]
  },
  {
   "cell_type": "markdown",
   "id": "9ee8595f",
   "metadata": {
    "papermill": {
     "duration": 0.008206,
     "end_time": "2024-08-14T19:01:21.185604",
     "exception": false,
     "start_time": "2024-08-14T19:01:21.177398",
     "status": "completed"
    },
    "tags": []
   },
   "source": [
    "Welcome to your first set of Python coding problems.  If this is your first time using Kaggle Notebooks, welcome! \n",
    "\n",
    "Notebooks are composed of blocks (called \"cells\") of text and code. Each of these is editable, though you'll mainly be editing the code cells to answer some questions.\n",
    "\n",
    "To get started, try running the code cell below (by pressing the ► button, or clicking on the cell and pressing ctrl+enter on your keyboard)."
   ]
  },
  {
   "cell_type": "code",
   "execution_count": 1,
   "id": "20b925e6",
   "metadata": {
    "execution": {
     "iopub.execute_input": "2024-08-14T19:01:21.204542Z",
     "iopub.status.busy": "2024-08-14T19:01:21.204093Z",
     "iopub.status.idle": "2024-08-14T19:01:21.218463Z",
     "shell.execute_reply": "2024-08-14T19:01:21.217161Z"
    },
    "papermill": {
     "duration": 0.026727,
     "end_time": "2024-08-14T19:01:21.220828",
     "exception": false,
     "start_time": "2024-08-14T19:01:21.194101",
     "status": "completed"
    },
    "tags": []
   },
   "outputs": [
    {
     "name": "stdout",
     "output_type": "stream",
     "text": [
      "You've successfully run some Python code\n",
      "Congratulations!\n"
     ]
    }
   ],
   "source": [
    "print(\"You've successfully run some Python code\")\n",
    "print(\"Congratulations!\")"
   ]
  },
  {
   "cell_type": "markdown",
   "id": "05acb6e1",
   "metadata": {
    "papermill": {
     "duration": 0.009113,
     "end_time": "2024-08-14T19:01:21.239158",
     "exception": false,
     "start_time": "2024-08-14T19:01:21.230045",
     "status": "completed"
    },
    "tags": []
   },
   "source": [
    "Try adding another line of code in the cell above and re-running it. \n",
    "\n",
    "Now let's get a little fancier:  Add a new code cell by clicking on an existing code cell, hitting the escape key, and then hitting the `a` or `b` key.  The `a` key will add a cell above the current cell, and `b` adds a cell below.\n",
    "\n",
    "Great! Now you know how to use Notebooks.\n",
    "\n",
    "Each hands-on exercise starts by setting up our feedback and code checking mechanism. Run the code cell below to do that. Then you'll be ready to move on to question 0."
   ]
  },
  {
   "cell_type": "code",
   "execution_count": 2,
   "id": "fdbe0aaa",
   "metadata": {
    "_kg_hide-input": true,
    "_kg_hide-output": true,
    "execution": {
     "iopub.execute_input": "2024-08-14T19:01:21.258816Z",
     "iopub.status.busy": "2024-08-14T19:01:21.258357Z",
     "iopub.status.idle": "2024-08-14T19:01:22.335849Z",
     "shell.execute_reply": "2024-08-14T19:01:22.334530Z"
    },
    "papermill": {
     "duration": 1.090504,
     "end_time": "2024-08-14T19:01:22.338540",
     "exception": false,
     "start_time": "2024-08-14T19:01:21.248036",
     "status": "completed"
    },
    "tags": []
   },
   "outputs": [
    {
     "name": "stdout",
     "output_type": "stream",
     "text": [
      "Setup complete! You're ready to start question 0.\n"
     ]
    }
   ],
   "source": [
    "from learntools.core import binder; binder.bind(globals())\n",
    "from learntools.python.ex1 import *\n",
    "print(\"Setup complete! You're ready to start question 0.\")"
   ]
  },
  {
   "cell_type": "markdown",
   "id": "fee52d01",
   "metadata": {
    "papermill": {
     "duration": 0.008855,
     "end_time": "2024-08-14T19:01:22.356366",
     "exception": false,
     "start_time": "2024-08-14T19:01:22.347511",
     "status": "completed"
    },
    "tags": []
   },
   "source": [
    "# 0.\n",
    "\n",
    "*This is a silly question intended as an introduction to the format we use for hands-on exercises throughout all Kaggle courses.*\n",
    "\n",
    "**What is your favorite color? **\n",
    "\n",
    "To complete this question, create a variable called `color` in the cell below with an appropriate value. The function call `q0.check()` (which we've already provided in the cell below) will check your answer."
   ]
  },
  {
   "cell_type": "code",
   "execution_count": 3,
   "id": "dc22a546",
   "metadata": {
    "execution": {
     "iopub.execute_input": "2024-08-14T19:01:22.375833Z",
     "iopub.status.busy": "2024-08-14T19:01:22.375278Z",
     "iopub.status.idle": "2024-08-14T19:01:22.386024Z",
     "shell.execute_reply": "2024-08-14T19:01:22.385029Z"
    },
    "papermill": {
     "duration": 0.023306,
     "end_time": "2024-08-14T19:01:22.388519",
     "exception": false,
     "start_time": "2024-08-14T19:01:22.365213",
     "status": "completed"
    },
    "tags": []
   },
   "outputs": [
    {
     "data": {
      "application/javascript": [
       "parent.postMessage({\"jupyterEvent\": \"custom.exercise_interaction\", \"data\": {\"outcomeType\": 1, \"valueTowardsCompletion\": 0.25, \"interactionType\": 1, \"questionType\": 2, \"questionId\": \"0_ExerciseFormatTutorial\", \"learnToolsVersion\": \"0.3.4\", \"failureMessage\": \"\", \"exceptionClass\": \"\", \"trace\": \"\"}}, \"*\")"
      ],
      "text/plain": [
       "<IPython.core.display.Javascript object>"
      ]
     },
     "metadata": {},
     "output_type": "display_data"
    },
    {
     "data": {
      "text/markdown": [
       "<span style=\"color:#33cc33\">Correct:</span> What?! You got it right without needing a hint or anything? Drats. Well hey, you should still continue to the next step to get some practice asking for a hint and checking solutions. (Even though you obviously don't need any help here.)"
      ],
      "text/plain": [
       "Correct: What?! You got it right without needing a hint or anything? Drats. Well hey, you should still continue to the next step to get some practice asking for a hint and checking solutions. (Even though you obviously don't need any help here.)"
      ]
     },
     "metadata": {},
     "output_type": "display_data"
    }
   ],
   "source": [
    "# create a variable called color with an appropriate value on the line below\n",
    "# (Remember, strings in Python must be enclosed in 'single' or \"double\" quotes)\n",
    "color = 'blue'\n",
    "\n",
    "# Check your answer\n",
    "q0.check()"
   ]
  },
  {
   "cell_type": "markdown",
   "id": "335fb4f3",
   "metadata": {
    "papermill": {
     "duration": 0.008748,
     "end_time": "2024-08-14T19:01:22.406616",
     "exception": false,
     "start_time": "2024-08-14T19:01:22.397868",
     "status": "completed"
    },
    "tags": []
   },
   "source": [
    "Didn't get the right answer? How do you not even know your own favorite color?!\n",
    "\n",
    "Delete the `#` in the line below to make one of the lines run. You can choose between getting a hint or the full answer by choosing which line to remove the `#` from. \n",
    "\n",
    "Removing the `#` is called uncommenting, because it changes that line from a \"comment\" which Python doesn't run to code, which Python does run."
   ]
  },
  {
   "cell_type": "code",
   "execution_count": 4,
   "id": "23b7261e",
   "metadata": {
    "execution": {
     "iopub.execute_input": "2024-08-14T19:01:22.426857Z",
     "iopub.status.busy": "2024-08-14T19:01:22.426469Z",
     "iopub.status.idle": "2024-08-14T19:01:22.431501Z",
     "shell.execute_reply": "2024-08-14T19:01:22.430235Z"
    },
    "papermill": {
     "duration": 0.018106,
     "end_time": "2024-08-14T19:01:22.434029",
     "exception": false,
     "start_time": "2024-08-14T19:01:22.415923",
     "status": "completed"
    },
    "tags": []
   },
   "outputs": [],
   "source": [
    "#q0.hint()\n",
    "#q0.solution()"
   ]
  },
  {
   "cell_type": "markdown",
   "id": "57d36856",
   "metadata": {
    "papermill": {
     "duration": 0.009047,
     "end_time": "2024-08-14T19:01:22.452319",
     "exception": false,
     "start_time": "2024-08-14T19:01:22.443272",
     "status": "completed"
    },
    "tags": []
   },
   "source": [
    "The upcoming questions work the same way. The only thing that will change are the question numbers. For the next question, you'll call `q1.check()`, `q1.hint()`, `q1.solution()`, for question 2, you'll call `q2.check()`, and so on."
   ]
  },
  {
   "cell_type": "markdown",
   "id": "0c0dcb91",
   "metadata": {
    "papermill": {
     "duration": 0.008928,
     "end_time": "2024-08-14T19:01:22.470578",
     "exception": false,
     "start_time": "2024-08-14T19:01:22.461650",
     "status": "completed"
    },
    "tags": []
   },
   "source": [
    "<hr/>\n",
    "\n",
    "# 1.\n",
    "\n",
    "Complete the code below. In case it's helpful, here is the table of available arithmetic operations:\n",
    "\n",
    "\n",
    "\n",
    "| Operator     | Name           | Description                                            |\n",
    "|--------------|----------------|--------------------------------------------------------|\n",
    "| ``a + b``    | Addition       | Sum of ``a`` and ``b``                                 |\n",
    "| ``a - b``    | Subtraction    | Difference of ``a`` and ``b``                          |\n",
    "| ``a * b``    | Multiplication | Product of ``a`` and ``b``                             |\n",
    "| ``a / b``    | True division  | Quotient of ``a`` and ``b``                            |\n",
    "| ``a // b``   | Floor division | Quotient of ``a`` and ``b``, removing fractional parts |\n",
    "| ``a % b``    | Modulus        | Integer remainder after division of ``a`` by ``b``     |\n",
    "| ``a ** b``   | Exponentiation | ``a`` raised to the power of ``b``                     |\n",
    "| ``-a``       | Negation       | The negative of ``a``                                  |\n",
    "\n",
    "<span style=\"display:none\"></span>\n"
   ]
  },
  {
   "cell_type": "code",
   "execution_count": 5,
   "id": "852165a2",
   "metadata": {
    "execution": {
     "iopub.execute_input": "2024-08-14T19:01:22.492274Z",
     "iopub.status.busy": "2024-08-14T19:01:22.491130Z",
     "iopub.status.idle": "2024-08-14T19:01:22.501349Z",
     "shell.execute_reply": "2024-08-14T19:01:22.500199Z"
    },
    "papermill": {
     "duration": 0.024115,
     "end_time": "2024-08-14T19:01:22.503856",
     "exception": false,
     "start_time": "2024-08-14T19:01:22.479741",
     "status": "completed"
    },
    "tags": []
   },
   "outputs": [
    {
     "data": {
      "application/javascript": [
       "parent.postMessage({\"jupyterEvent\": \"custom.exercise_interaction\", \"data\": {\"outcomeType\": 1, \"valueTowardsCompletion\": 0.25, \"interactionType\": 1, \"questionType\": 1, \"questionId\": \"1_CircleArea\", \"learnToolsVersion\": \"0.3.4\", \"failureMessage\": \"\", \"exceptionClass\": \"\", \"trace\": \"\"}}, \"*\")"
      ],
      "text/plain": [
       "<IPython.core.display.Javascript object>"
      ]
     },
     "metadata": {},
     "output_type": "display_data"
    },
    {
     "data": {
      "text/markdown": [
       "<span style=\"color:#33cc33\">Correct</span>"
      ],
      "text/plain": [
       "Correct"
      ]
     },
     "metadata": {},
     "output_type": "display_data"
    }
   ],
   "source": [
    "pi = 3.14159 # approximate\n",
    "diameter = 3\n",
    "\n",
    "# Create a variable called 'radius' equal to half the diameter\n",
    "radius = diameter/2\n",
    "\n",
    "# Create a variable called 'area', using the formula for the area of a circle: pi times the radius squared\n",
    "area = pi * (radius**2)\n",
    "\n",
    "# Check your answer\n",
    "q1.check()"
   ]
  },
  {
   "cell_type": "code",
   "execution_count": 6,
   "id": "d3f2e02a",
   "metadata": {
    "execution": {
     "iopub.execute_input": "2024-08-14T19:01:22.525262Z",
     "iopub.status.busy": "2024-08-14T19:01:22.524521Z",
     "iopub.status.idle": "2024-08-14T19:01:22.529493Z",
     "shell.execute_reply": "2024-08-14T19:01:22.528375Z"
    },
    "papermill": {
     "duration": 0.018557,
     "end_time": "2024-08-14T19:01:22.532106",
     "exception": false,
     "start_time": "2024-08-14T19:01:22.513549",
     "status": "completed"
    },
    "tags": []
   },
   "outputs": [],
   "source": [
    "# Uncomment and run the lines below if you need help.\n",
    "#q1.hint()\n",
    "#q1.solution()"
   ]
  },
  {
   "cell_type": "markdown",
   "id": "1bde8097",
   "metadata": {
    "papermill": {
     "duration": 0.00926,
     "end_time": "2024-08-14T19:01:22.550975",
     "exception": false,
     "start_time": "2024-08-14T19:01:22.541715",
     "status": "completed"
    },
    "tags": []
   },
   "source": [
    "<hr/>\n",
    "\n",
    "# 2.\n",
    "\n",
    "Add code to the following cell to swap variables `a` and `b` (so that `a` refers to the object previously referred to by `b` and vice versa)."
   ]
  },
  {
   "cell_type": "code",
   "execution_count": 7,
   "id": "f24fbb4e",
   "metadata": {
    "execution": {
     "iopub.execute_input": "2024-08-14T19:01:22.572012Z",
     "iopub.status.busy": "2024-08-14T19:01:22.571592Z",
     "iopub.status.idle": "2024-08-14T19:01:22.583139Z",
     "shell.execute_reply": "2024-08-14T19:01:22.581929Z"
    },
    "papermill": {
     "duration": 0.025012,
     "end_time": "2024-08-14T19:01:22.585576",
     "exception": false,
     "start_time": "2024-08-14T19:01:22.560564",
     "status": "completed"
    },
    "tags": []
   },
   "outputs": [
    {
     "data": {
      "application/javascript": [
       "parent.postMessage({\"jupyterEvent\": \"custom.exercise_interaction\", \"data\": {\"outcomeType\": 1, \"valueTowardsCompletion\": 0.25, \"interactionType\": 1, \"questionType\": 2, \"questionId\": \"2_VariableSwap\", \"learnToolsVersion\": \"0.3.4\", \"failureMessage\": \"\", \"exceptionClass\": \"\", \"trace\": \"\"}}, \"*\")"
      ],
      "text/plain": [
       "<IPython.core.display.Javascript object>"
      ]
     },
     "metadata": {},
     "output_type": "display_data"
    },
    {
     "data": {
      "text/markdown": [
       "<span style=\"color:#33cc33\">Correct:</span> \n",
       "\n",
       "The most straightforward solution is to use a third variable to temporarily store one of the old values. e.g.:\n",
       "\n",
       "    tmp = a\n",
       "    a = b\n",
       "    b = tmp\n",
       "\n",
       "If you've read lots of Python code, you might have seen the following trick to swap two variables in one line:\n",
       "\n",
       "    a, b = b, a\n",
       "\n",
       "We'll demystify this bit of Python magic later when we talk about *tuples*."
      ],
      "text/plain": [
       "Correct: \n",
       "\n",
       "The most straightforward solution is to use a third variable to temporarily store one of the old values. e.g.:\n",
       "\n",
       "    tmp = a\n",
       "    a = b\n",
       "    b = tmp\n",
       "\n",
       "If you've read lots of Python code, you might have seen the following trick to swap two variables in one line:\n",
       "\n",
       "    a, b = b, a\n",
       "\n",
       "We'll demystify this bit of Python magic later when we talk about *tuples*."
      ]
     },
     "metadata": {},
     "output_type": "display_data"
    }
   ],
   "source": [
    "########### Setup code - don't touch this part ######################\n",
    "# If you're curious, these are examples of lists. We'll talk about \n",
    "# them in depth a few lessons from now. For now, just know that they're\n",
    "# yet another type of Python object, like int or float.\n",
    "a = [1, 2, 3]\n",
    "b = [3, 2, 1]\n",
    "q2.store_original_ids()\n",
    "######################################################################\n",
    "\n",
    "# Your code goes here. Swap the values to which a and b refer.\n",
    "# If you get stuck, you can always uncomment one or both of the lines in\n",
    "# the next cell for a hint, or to peek at the solution.\n",
    "\n",
    "c = b\n",
    "b = a\n",
    "a = c\n",
    "\n",
    "######################################################################\n",
    "\n",
    "# Check your answer\n",
    "q2.check()"
   ]
  },
  {
   "cell_type": "code",
   "execution_count": 8,
   "id": "ac187e8a",
   "metadata": {
    "execution": {
     "iopub.execute_input": "2024-08-14T19:01:22.607663Z",
     "iopub.status.busy": "2024-08-14T19:01:22.607249Z",
     "iopub.status.idle": "2024-08-14T19:01:22.612878Z",
     "shell.execute_reply": "2024-08-14T19:01:22.611667Z"
    },
    "papermill": {
     "duration": 0.019615,
     "end_time": "2024-08-14T19:01:22.615483",
     "exception": false,
     "start_time": "2024-08-14T19:01:22.595868",
     "status": "completed"
    },
    "tags": []
   },
   "outputs": [],
   "source": [
    "#q2.hint()"
   ]
  },
  {
   "cell_type": "code",
   "execution_count": 9,
   "id": "45995b19",
   "metadata": {
    "execution": {
     "iopub.execute_input": "2024-08-14T19:01:22.637893Z",
     "iopub.status.busy": "2024-08-14T19:01:22.636879Z",
     "iopub.status.idle": "2024-08-14T19:01:22.642209Z",
     "shell.execute_reply": "2024-08-14T19:01:22.640960Z"
    },
    "papermill": {
     "duration": 0.019112,
     "end_time": "2024-08-14T19:01:22.644633",
     "exception": false,
     "start_time": "2024-08-14T19:01:22.625521",
     "status": "completed"
    },
    "tags": []
   },
   "outputs": [],
   "source": [
    "#q2.solution()"
   ]
  },
  {
   "cell_type": "markdown",
   "id": "f2aee84c",
   "metadata": {
    "papermill": {
     "duration": 0.009705,
     "end_time": "2024-08-14T19:01:22.664592",
     "exception": false,
     "start_time": "2024-08-14T19:01:22.654887",
     "status": "completed"
    },
    "tags": []
   },
   "source": [
    "<hr/>\n",
    "\n",
    "# 3a.\n",
    "\n",
    "Add parentheses to the following expression so that it evaluates to 1."
   ]
  },
  {
   "cell_type": "code",
   "execution_count": 10,
   "id": "ef064214",
   "metadata": {
    "execution": {
     "iopub.execute_input": "2024-08-14T19:01:22.686918Z",
     "iopub.status.busy": "2024-08-14T19:01:22.685960Z",
     "iopub.status.idle": "2024-08-14T19:01:22.692920Z",
     "shell.execute_reply": "2024-08-14T19:01:22.691807Z"
    },
    "papermill": {
     "duration": 0.02069,
     "end_time": "2024-08-14T19:01:22.695415",
     "exception": false,
     "start_time": "2024-08-14T19:01:22.674725",
     "status": "completed"
    },
    "tags": []
   },
   "outputs": [
    {
     "data": {
      "text/plain": [
       "1"
      ]
     },
     "execution_count": 10,
     "metadata": {},
     "output_type": "execute_result"
    }
   ],
   "source": [
    "(5 - 3) // 2"
   ]
  },
  {
   "cell_type": "code",
   "execution_count": 11,
   "id": "64e8603e",
   "metadata": {
    "execution": {
     "iopub.execute_input": "2024-08-14T19:01:22.718276Z",
     "iopub.status.busy": "2024-08-14T19:01:22.717387Z",
     "iopub.status.idle": "2024-08-14T19:01:22.722510Z",
     "shell.execute_reply": "2024-08-14T19:01:22.721167Z"
    },
    "papermill": {
     "duration": 0.019061,
     "end_time": "2024-08-14T19:01:22.724837",
     "exception": false,
     "start_time": "2024-08-14T19:01:22.705776",
     "status": "completed"
    },
    "tags": []
   },
   "outputs": [],
   "source": [
    "#q3.a.hint()"
   ]
  },
  {
   "cell_type": "code",
   "execution_count": 12,
   "id": "41c11934",
   "metadata": {
    "execution": {
     "iopub.execute_input": "2024-08-14T19:01:22.747906Z",
     "iopub.status.busy": "2024-08-14T19:01:22.746797Z",
     "iopub.status.idle": "2024-08-14T19:01:22.756313Z",
     "shell.execute_reply": "2024-08-14T19:01:22.755271Z"
    },
    "papermill": {
     "duration": 0.023512,
     "end_time": "2024-08-14T19:01:22.758652",
     "exception": false,
     "start_time": "2024-08-14T19:01:22.735140",
     "status": "completed"
    },
    "tags": []
   },
   "outputs": [
    {
     "data": {
      "application/javascript": [
       "parent.postMessage({\"jupyterEvent\": \"custom.exercise_interaction\", \"data\": {\"interactionType\": 3, \"questionType\": 4, \"questionId\": \"3.1_ArithmeticParensEasy\", \"learnToolsVersion\": \"0.3.4\", \"valueTowardsCompletion\": 0.0, \"failureMessage\": \"\", \"exceptionClass\": \"\", \"trace\": \"\", \"outcomeType\": 4}}, \"*\")"
      ],
      "text/plain": [
       "<IPython.core.display.Javascript object>"
      ]
     },
     "metadata": {},
     "output_type": "display_data"
    },
    {
     "data": {
      "text/markdown": [
       "<span style=\"color:#33cc99\">Solution:</span> \n",
       "```python\n",
       "(5 - 3) // 2\n",
       "```"
      ],
      "text/plain": [
       "Solution: \n",
       "```python\n",
       "(5 - 3) // 2\n",
       "```"
      ]
     },
     "metadata": {},
     "output_type": "display_data"
    }
   ],
   "source": [
    "# Check your answer (Run this code cell to receive credit!)\n",
    "q3.a.solution()"
   ]
  },
  {
   "cell_type": "markdown",
   "id": "12b6dd16",
   "metadata": {
    "papermill": {
     "duration": 0.010399,
     "end_time": "2024-08-14T19:01:22.780118",
     "exception": false,
     "start_time": "2024-08-14T19:01:22.769719",
     "status": "completed"
    },
    "tags": []
   },
   "source": [
    "# 3b.  <span title=\"A bit spicy\" style=\"color: darkgreen \">🌶️</span>\n",
    "\n",
    "<small>Questions, like this one, marked a spicy pepper are a bit harder.</small>\n",
    "\n",
    "Add parentheses to the following expression so that it evaluates to 0."
   ]
  },
  {
   "cell_type": "code",
   "execution_count": 13,
   "id": "9e021248",
   "metadata": {
    "execution": {
     "iopub.execute_input": "2024-08-14T19:01:22.803015Z",
     "iopub.status.busy": "2024-08-14T19:01:22.802576Z",
     "iopub.status.idle": "2024-08-14T19:01:22.810178Z",
     "shell.execute_reply": "2024-08-14T19:01:22.808796Z"
    },
    "papermill": {
     "duration": 0.021832,
     "end_time": "2024-08-14T19:01:22.812587",
     "exception": false,
     "start_time": "2024-08-14T19:01:22.790755",
     "status": "completed"
    },
    "tags": []
   },
   "outputs": [
    {
     "data": {
      "text/plain": [
       "0"
      ]
     },
     "execution_count": 13,
     "metadata": {},
     "output_type": "execute_result"
    }
   ],
   "source": [
    "8 - (3 * 2) - (1 + 1)"
   ]
  },
  {
   "cell_type": "code",
   "execution_count": 14,
   "id": "82e1d3be",
   "metadata": {
    "execution": {
     "iopub.execute_input": "2024-08-14T19:01:22.836990Z",
     "iopub.status.busy": "2024-08-14T19:01:22.836577Z",
     "iopub.status.idle": "2024-08-14T19:01:22.841391Z",
     "shell.execute_reply": "2024-08-14T19:01:22.840251Z"
    },
    "papermill": {
     "duration": 0.019713,
     "end_time": "2024-08-14T19:01:22.843892",
     "exception": false,
     "start_time": "2024-08-14T19:01:22.824179",
     "status": "completed"
    },
    "tags": []
   },
   "outputs": [],
   "source": [
    "#q3.b.hint()"
   ]
  },
  {
   "cell_type": "code",
   "execution_count": 15,
   "id": "1fe45940",
   "metadata": {
    "execution": {
     "iopub.execute_input": "2024-08-14T19:01:22.868203Z",
     "iopub.status.busy": "2024-08-14T19:01:22.867176Z",
     "iopub.status.idle": "2024-08-14T19:01:22.876906Z",
     "shell.execute_reply": "2024-08-14T19:01:22.875673Z"
    },
    "papermill": {
     "duration": 0.024459,
     "end_time": "2024-08-14T19:01:22.879404",
     "exception": false,
     "start_time": "2024-08-14T19:01:22.854945",
     "status": "completed"
    },
    "tags": []
   },
   "outputs": [
    {
     "data": {
      "application/javascript": [
       "parent.postMessage({\"jupyterEvent\": \"custom.exercise_interaction\", \"data\": {\"interactionType\": 3, \"questionType\": 4, \"questionId\": \"3.2_ArithmeticParensHard\", \"learnToolsVersion\": \"0.3.4\", \"valueTowardsCompletion\": 0.0, \"failureMessage\": \"\", \"exceptionClass\": \"\", \"trace\": \"\", \"outcomeType\": 4}}, \"*\")"
      ],
      "text/plain": [
       "<IPython.core.display.Javascript object>"
      ]
     },
     "metadata": {},
     "output_type": "display_data"
    },
    {
     "data": {
      "text/markdown": [
       "<span style=\"color:#33cc99\">Solution:</span> `(8 - 3) * (2 - (1 + 1))` is one solution. There may be others."
      ],
      "text/plain": [
       "Solution: `(8 - 3) * (2 - (1 + 1))` is one solution. There may be others."
      ]
     },
     "metadata": {},
     "output_type": "display_data"
    }
   ],
   "source": [
    "# Check your answer (Run this code cell to receive credit!)\n",
    "q3.b.solution()"
   ]
  },
  {
   "cell_type": "markdown",
   "id": "7db848d8",
   "metadata": {
    "papermill": {
     "duration": 0.011068,
     "end_time": "2024-08-14T19:01:22.902558",
     "exception": false,
     "start_time": "2024-08-14T19:01:22.891490",
     "status": "completed"
    },
    "tags": []
   },
   "source": [
    "<hr/>\n",
    "\n",
    "# 4. \n",
    "Alice, Bob and Carol have agreed to pool their Halloween candy and split it evenly among themselves.\n",
    "For the sake of their friendship, any candies left over will be smashed. For example, if they collectively\n",
    "bring home 91 candies, they'll take 30 each and smash 1.\n",
    "\n",
    "Write an arithmetic expression below to calculate how many candies they must smash for a given haul."
   ]
  },
  {
   "cell_type": "code",
   "execution_count": 16,
   "id": "b47974d6",
   "metadata": {
    "execution": {
     "iopub.execute_input": "2024-08-14T19:01:22.928087Z",
     "iopub.status.busy": "2024-08-14T19:01:22.926937Z",
     "iopub.status.idle": "2024-08-14T19:01:22.937536Z",
     "shell.execute_reply": "2024-08-14T19:01:22.936156Z"
    },
    "papermill": {
     "duration": 0.026457,
     "end_time": "2024-08-14T19:01:22.940462",
     "exception": false,
     "start_time": "2024-08-14T19:01:22.914005",
     "status": "completed"
    },
    "tags": []
   },
   "outputs": [
    {
     "data": {
      "application/javascript": [
       "parent.postMessage({\"jupyterEvent\": \"custom.exercise_interaction\", \"data\": {\"outcomeType\": 1, \"valueTowardsCompletion\": 0.25, \"interactionType\": 1, \"questionType\": 1, \"questionId\": \"4_CandySplitting\", \"learnToolsVersion\": \"0.3.4\", \"failureMessage\": \"\", \"exceptionClass\": \"\", \"trace\": \"\"}}, \"*\")"
      ],
      "text/plain": [
       "<IPython.core.display.Javascript object>"
      ]
     },
     "metadata": {},
     "output_type": "display_data"
    },
    {
     "data": {
      "text/markdown": [
       "<span style=\"color:#33cc33\">Correct</span>"
      ],
      "text/plain": [
       "Correct"
      ]
     },
     "metadata": {},
     "output_type": "display_data"
    }
   ],
   "source": [
    "# Variables representing the number of candies collected by alice, bob, and carol\n",
    "alice_candies = 121\n",
    "bob_candies = 77\n",
    "carol_candies = 109\n",
    "\n",
    "# Your code goes here! Replace the right-hand side of this assignment with an expression\n",
    "# involving alice_candies, bob_candies, and carol_candies\n",
    "to_smash = (alice_candies + bob_candies + carol_candies) % 3\n",
    "\n",
    "# Check your answer\n",
    "q4.check()"
   ]
  },
  {
   "cell_type": "code",
   "execution_count": 17,
   "id": "c5398b18",
   "metadata": {
    "execution": {
     "iopub.execute_input": "2024-08-14T19:01:22.967195Z",
     "iopub.status.busy": "2024-08-14T19:01:22.965863Z",
     "iopub.status.idle": "2024-08-14T19:01:22.971856Z",
     "shell.execute_reply": "2024-08-14T19:01:22.970410Z"
    },
    "papermill": {
     "duration": 0.022294,
     "end_time": "2024-08-14T19:01:22.974618",
     "exception": false,
     "start_time": "2024-08-14T19:01:22.952324",
     "status": "completed"
    },
    "tags": []
   },
   "outputs": [],
   "source": [
    "#q4.hint()\n",
    "#q4.solution()"
   ]
  },
  {
   "cell_type": "markdown",
   "id": "c9197a4a",
   "metadata": {
    "papermill": {
     "duration": 0.011535,
     "end_time": "2024-08-14T19:01:22.998106",
     "exception": false,
     "start_time": "2024-08-14T19:01:22.986571",
     "status": "completed"
    },
    "tags": []
   },
   "source": [
    "# Keep Going\n",
    "\n",
    "Next up, you'll **[learn to write new functions and understand functions others write](https://www.kaggle.com/colinmorris/functions-and-getting-help)**. This will make you at least 10 times more productive as a Python programmer. "
   ]
  },
  {
   "cell_type": "markdown",
   "id": "1eac5484",
   "metadata": {
    "papermill": {
     "duration": 0.011895,
     "end_time": "2024-08-14T19:01:23.022406",
     "exception": false,
     "start_time": "2024-08-14T19:01:23.010511",
     "status": "completed"
    },
    "tags": []
   },
   "source": [
    "---\n",
    "\n",
    "\n",
    "\n",
    "\n",
    "*Have questions or comments? Visit the [course discussion forum](https://www.kaggle.com/learn/python/discussion) to chat with other learners.*"
   ]
  }
 ],
 "metadata": {
  "kaggle": {
   "accelerator": "none",
   "dataSources": [],
   "isGpuEnabled": false,
   "isInternetEnabled": false,
   "language": "python",
   "sourceType": "notebook"
  },
  "kernelspec": {
   "display_name": "Python 3",
   "language": "python",
   "name": "python3"
  },
  "language_info": {
   "codemirror_mode": {
    "name": "ipython",
    "version": 3
   },
   "file_extension": ".py",
   "mimetype": "text/x-python",
   "name": "python",
   "nbconvert_exporter": "python",
   "pygments_lexer": "ipython3",
   "version": "3.10.13"
  },
  "learntools_metadata": {
   "lesson_index": 0,
   "type": "exercise"
  },
  "papermill": {
   "default_parameters": {},
   "duration": 5.559955,
   "end_time": "2024-08-14T19:01:23.555404",
   "environment_variables": {},
   "exception": null,
   "input_path": "__notebook__.ipynb",
   "output_path": "__notebook__.ipynb",
   "parameters": {},
   "start_time": "2024-08-14T19:01:17.995449",
   "version": "2.5.0"
  }
 },
 "nbformat": 4,
 "nbformat_minor": 5
}
