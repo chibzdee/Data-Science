{
 "cells": [
  {
   "cell_type": "code",
   "execution_count": 1,
   "metadata": {},
   "outputs": [],
   "source": [
    "import numpy as np"
   ]
  },
  {
   "cell_type": "markdown",
   "metadata": {},
   "source": [
    "Matrix Multiplication"
   ]
  },
  {
   "cell_type": "code",
   "execution_count": 3,
   "metadata": {},
   "outputs": [
    {
     "name": "stdout",
     "output_type": "stream",
     "text": [
      "Matrix A (3 x 3): \n",
      " [[4 9 9]\n",
      " [9 1 6]\n",
      " [9 2 3]]\n",
      "\n",
      "\n",
      "Matrix A (3 x 2): \n",
      " [[2 2]\n",
      " [5 7]\n",
      " [4 4]]\n"
     ]
    }
   ],
   "source": [
    "A = np.array([[4, 9, 9], [9, 1, 6], [9, 2, 3]])\n",
    "print(f\"Matrix A (3 x 3): \\n {A}\")\n",
    "\n",
    "print(\"\\n\")\n",
    "\n",
    "B = np.array([[2, 2], [5, 7], [4, 4]])\n",
    "print(f\"Matrix A (3 x 2): \\n {B}\")"
   ]
  },
  {
   "cell_type": "markdown",
   "metadata": {},
   "source": [
    "using np.matmul() to multiply the two matrices"
   ]
  },
  {
   "cell_type": "code",
   "execution_count": 4,
   "metadata": {},
   "outputs": [
    {
     "name": "stdout",
     "output_type": "stream",
     "text": [
      "[[ 89 107]\n",
      " [ 47  49]\n",
      " [ 40  44]]\n"
     ]
    }
   ],
   "source": [
    "AxB = np.matmul(A,B)\n",
    "print(AxB)"
   ]
  },
  {
   "cell_type": "markdown",
   "metadata": {},
   "source": [
    "The python operator @ will also work "
   ]
  },
  {
   "cell_type": "code",
   "execution_count": 5,
   "metadata": {},
   "outputs": [
    {
     "data": {
      "text/plain": [
       "array([[ 89, 107],\n",
       "       [ 47,  49],\n",
       "       [ 40,  44]])"
      ]
     },
     "execution_count": 5,
     "metadata": {},
     "output_type": "execute_result"
    }
   ],
   "source": [
    "A @ B"
   ]
  },
  {
   "cell_type": "markdown",
   "metadata": {},
   "source": [
    "### Note:\n",
    "        For matrix multiplication, the number of columns on the first matrix must be equal to the number of rows on the second matrix"
   ]
  },
  {
   "cell_type": "code",
   "execution_count": 6,
   "metadata": {},
   "outputs": [
    {
     "name": "stdout",
     "output_type": "stream",
     "text": [
      "matmul: Input operand 1 has a mismatch in its core dimension 0, with gufunc signature (n?,k),(k,m?)->(n?,m?) (size 3 is different from 2)\n"
     ]
    }
   ],
   "source": [
    "try:\n",
    "    np.matmul(B, A)\n",
    "except Exception as e:\n",
    "    print(e)"
   ]
  },
  {
   "cell_type": "code",
   "execution_count": 7,
   "metadata": {},
   "outputs": [
    {
     "name": "stdout",
     "output_type": "stream",
     "text": [
      "matmul: Input operand 1 has a mismatch in its core dimension 0, with gufunc signature (n?,k),(k,m?)->(n?,m?) (size 3 is different from 2)\n"
     ]
    }
   ],
   "source": [
    "try:\n",
    "    B @ A\n",
    "except Exception as e:\n",
    "    print(e)"
   ]
  },
  {
   "cell_type": "code",
   "execution_count": 8,
   "metadata": {},
   "outputs": [
    {
     "name": "stdout",
     "output_type": "stream",
     "text": [
      "Shape of vector x: (3,)\n",
      "Number of dimensions of vector x: 1\n",
      "Shape of vector x, reshaped to a matrix: (3, 1)\n",
      "Number of dimensions of vector x, reshaped to a matrix: 2\n"
     ]
    }
   ],
   "source": [
    "x = np.array([1, -2, -5])\n",
    "y = np.array([4, 3, -1])\n",
    "\n",
    "print(\"Shape of vector x:\", x.shape)\n",
    "print(\"Number of dimensions of vector x:\", x.ndim)\n",
    "print(\"Shape of vector x, reshaped to a matrix:\", x.reshape((3, 1)).shape)\n",
    "print(\"Number of dimensions of vector x, reshaped to a matrix:\", x.reshape((3, 1)).ndim)"
   ]
  },
  {
   "cell_type": "code",
   "execution_count": 9,
   "metadata": {},
   "outputs": [
    {
     "data": {
      "text/plain": [
       "np.int64(3)"
      ]
     },
     "execution_count": 9,
     "metadata": {},
     "output_type": "execute_result"
    }
   ],
   "source": [
    "np.matmul(x, y)"
   ]
  },
  {
   "cell_type": "markdown",
   "metadata": {},
   "source": [
    "### Note:\n",
    "        np.dot() also works for matrix multiplication. What actually happens is called **Broadcasting** in python. Numpy broadcasts the dot product operation to all rows and columns, and you get the resultant product matrix. Broadcasting also works in other operations (+, -, etc)"
   ]
  },
  {
   "cell_type": "code",
   "execution_count": 10,
   "metadata": {},
   "outputs": [
    {
     "data": {
      "text/plain": [
       "array([[ 89, 107],\n",
       "       [ 47,  49],\n",
       "       [ 40,  44]])"
      ]
     },
     "execution_count": 10,
     "metadata": {},
     "output_type": "execute_result"
    }
   ],
   "source": [
    "np.dot(A, B)"
   ]
  },
  {
   "cell_type": "markdown",
   "metadata": {},
   "source": [
    "### LINEAR TRANSFORMATIONS"
   ]
  },
  {
   "cell_type": "code",
   "execution_count": 15,
   "metadata": {},
   "outputs": [
    {
     "name": "stdout",
     "output_type": "stream",
     "text": [
      "Collecting opencv-python\n",
      "  Downloading opencv_python-4.11.0.86-cp37-abi3-win_amd64.whl.metadata (20 kB)\n",
      "Requirement already satisfied: numpy>=1.21.2 in c:\\users\\didigu\\appdata\\local\\programs\\python\\python312\\lib\\site-packages (from opencv-python) (2.2.1)\n",
      "Downloading opencv_python-4.11.0.86-cp37-abi3-win_amd64.whl (39.5 MB)\n",
      "   ---------------------------------------- 0.0/39.5 MB ? eta -:--:--\n",
      "    --------------------------------------- 0.5/39.5 MB 4.2 MB/s eta 0:00:10\n",
      "   - -------------------------------------- 1.3/39.5 MB 3.7 MB/s eta 0:00:11\n",
      "   -- ------------------------------------- 2.1/39.5 MB 3.7 MB/s eta 0:00:11\n",
      "   -- ------------------------------------- 2.9/39.5 MB 3.6 MB/s eta 0:00:11\n",
      "   --- ------------------------------------ 3.7/39.5 MB 3.6 MB/s eta 0:00:11\n",
      "   ---- ----------------------------------- 4.5/39.5 MB 3.6 MB/s eta 0:00:10\n",
      "   ----- ---------------------------------- 5.0/39.5 MB 3.6 MB/s eta 0:00:10\n",
      "   ----- ---------------------------------- 5.8/39.5 MB 3.6 MB/s eta 0:00:10\n",
      "   ------ --------------------------------- 6.6/39.5 MB 3.6 MB/s eta 0:00:10\n",
      "   ------- -------------------------------- 7.3/39.5 MB 3.6 MB/s eta 0:00:10\n",
      "   ------- -------------------------------- 7.9/39.5 MB 3.6 MB/s eta 0:00:09\n",
      "   -------- ------------------------------- 8.7/39.5 MB 3.6 MB/s eta 0:00:09\n",
      "   --------- ------------------------------ 9.4/39.5 MB 3.6 MB/s eta 0:00:09\n",
      "   ---------- ----------------------------- 10.2/39.5 MB 3.5 MB/s eta 0:00:09\n",
      "   ----------- ---------------------------- 11.0/39.5 MB 3.5 MB/s eta 0:00:09\n",
      "   ----------- ---------------------------- 11.8/39.5 MB 3.5 MB/s eta 0:00:08\n",
      "   ------------ --------------------------- 12.3/39.5 MB 3.5 MB/s eta 0:00:08\n",
      "   ------------- -------------------------- 13.1/39.5 MB 3.5 MB/s eta 0:00:08\n",
      "   -------------- ------------------------- 13.9/39.5 MB 3.5 MB/s eta 0:00:08\n",
      "   -------------- ------------------------- 14.4/39.5 MB 3.5 MB/s eta 0:00:08\n",
      "   --------------- ------------------------ 15.2/39.5 MB 3.5 MB/s eta 0:00:07\n",
      "   ---------------- ----------------------- 16.0/39.5 MB 3.5 MB/s eta 0:00:07\n",
      "   ---------------- ----------------------- 16.8/39.5 MB 3.5 MB/s eta 0:00:07\n",
      "   ----------------- ---------------------- 17.6/39.5 MB 3.5 MB/s eta 0:00:07\n",
      "   ------------------ --------------------- 18.4/39.5 MB 3.5 MB/s eta 0:00:07\n",
      "   ------------------- -------------------- 18.9/39.5 MB 3.5 MB/s eta 0:00:06\n",
      "   ------------------- -------------------- 19.7/39.5 MB 3.5 MB/s eta 0:00:06\n",
      "   -------------------- ------------------- 20.4/39.5 MB 3.5 MB/s eta 0:00:06\n",
      "   --------------------- ------------------ 21.2/39.5 MB 3.5 MB/s eta 0:00:06\n",
      "   ---------------------- ----------------- 21.8/39.5 MB 3.5 MB/s eta 0:00:06\n",
      "   ---------------------- ----------------- 22.5/39.5 MB 3.5 MB/s eta 0:00:05\n",
      "   ----------------------- ---------------- 23.3/39.5 MB 3.5 MB/s eta 0:00:05\n",
      "   ------------------------ --------------- 24.1/39.5 MB 3.5 MB/s eta 0:00:05\n",
      "   ------------------------- -------------- 24.9/39.5 MB 3.5 MB/s eta 0:00:05\n",
      "   ------------------------- -------------- 25.4/39.5 MB 3.5 MB/s eta 0:00:04\n",
      "   -------------------------- ------------- 26.2/39.5 MB 3.5 MB/s eta 0:00:04\n",
      "   --------------------------- ------------ 27.0/39.5 MB 3.5 MB/s eta 0:00:04\n",
      "   ---------------------------- ----------- 27.8/39.5 MB 3.5 MB/s eta 0:00:04\n",
      "   ---------------------------- ----------- 28.3/39.5 MB 3.5 MB/s eta 0:00:04\n",
      "   ----------------------------- ---------- 29.1/39.5 MB 3.5 MB/s eta 0:00:03\n",
      "   ------------------------------ --------- 29.9/39.5 MB 3.5 MB/s eta 0:00:03\n",
      "   ------------------------------- -------- 30.7/39.5 MB 3.5 MB/s eta 0:00:03\n",
      "   ------------------------------- -------- 31.2/39.5 MB 3.5 MB/s eta 0:00:03\n",
      "   -------------------------------- ------- 32.0/39.5 MB 3.5 MB/s eta 0:00:03\n",
      "   --------------------------------- ------ 32.8/39.5 MB 3.5 MB/s eta 0:00:02\n",
      "   --------------------------------- ------ 33.6/39.5 MB 3.5 MB/s eta 0:00:02\n",
      "   ---------------------------------- ----- 34.1/39.5 MB 3.5 MB/s eta 0:00:02\n",
      "   ----------------------------------- ---- 34.9/39.5 MB 3.5 MB/s eta 0:00:02\n",
      "   ------------------------------------ --- 35.7/39.5 MB 3.5 MB/s eta 0:00:02\n",
      "   ------------------------------------ --- 36.4/39.5 MB 3.5 MB/s eta 0:00:01\n",
      "   ------------------------------------- -- 37.2/39.5 MB 3.5 MB/s eta 0:00:01\n",
      "   -------------------------------------- - 38.0/39.5 MB 3.5 MB/s eta 0:00:01\n",
      "   ---------------------------------------  38.5/39.5 MB 3.5 MB/s eta 0:00:01\n",
      "   ---------------------------------------  39.3/39.5 MB 3.5 MB/s eta 0:00:01\n",
      "   ---------------------------------------  39.3/39.5 MB 3.5 MB/s eta 0:00:01\n",
      "   ---------------------------------------- 39.5/39.5 MB 3.5 MB/s eta 0:00:00\n",
      "Installing collected packages: opencv-python\n",
      "Successfully installed opencv-python-4.11.0.86\n",
      "Note: you may need to restart the kernel to use updated packages.\n"
     ]
    }
   ],
   "source": [
    "%pip install opencv-python"
   ]
  },
  {
   "cell_type": "code",
   "execution_count": 16,
   "metadata": {},
   "outputs": [],
   "source": [
    "import cv2"
   ]
  },
  {
   "cell_type": "code",
   "execution_count": 17,
   "metadata": {},
   "outputs": [
    {
     "data": {
      "text/plain": [
       "array([[0.],\n",
       "       [0.],\n",
       "       [0.]])"
      ]
     },
     "execution_count": 17,
     "metadata": {},
     "output_type": "execute_result"
    }
   ],
   "source": [
    "np.zeros((3, 1))"
   ]
  },
  {
   "cell_type": "code",
   "execution_count": 18,
   "metadata": {},
   "outputs": [
    {
     "name": "stdout",
     "output_type": "stream",
     "text": [
      "Original vector:\n",
      " [[3]\n",
      " [5]] \n",
      "\n",
      " Result of the transformation:\n",
      " [[  9.]\n",
      " [  0.]\n",
      " [-10.]]\n"
     ]
    }
   ],
   "source": [
    "def T(v):\n",
    "    w = np.zeros((3, 1))\n",
    "    w[0,0] = 3*v[0,0]\n",
    "    w[2,0] = -2*v[1,0]\n",
    "    \n",
    "    return w\n",
    "\n",
    "v = np.array([[3], [5]])\n",
    "w = T(v)\n",
    "\n",
    "print(\"Original vector:\\n\", v, \"\\n\\n Result of the transformation:\\n\", w)"
   ]
  },
  {
   "cell_type": "markdown",
   "metadata": {},
   "source": [
    "A transformation  𝑇\n",
    "  is said to be linear if the following two properties are true for any scalar  𝑘\n",
    " , and any input vectors  𝑢\n",
    "  and  𝑣\n",
    " :\n",
    "\n",
    "    𝑇(𝑘𝑣)=𝑘𝑇(𝑣)\n",
    " \n",
    "    𝑇(𝑢+𝑣)=𝑇(𝑢)+𝑇(𝑣)\n"
   ]
  },
  {
   "cell_type": "code",
   "execution_count": 20,
   "metadata": {},
   "outputs": [
    {
     "name": "stdout",
     "output_type": "stream",
     "text": [
      "T(kv): \n",
      " [[ 42.]\n",
      " [  0.]\n",
      " [-56.]], \n",
      " k*T(v): \n",
      " [[ 42.]\n",
      " [  0.]\n",
      " [-56.]]\n",
      "\n",
      "\n",
      "T(u+v): \n",
      " [[ 9.]\n",
      " [ 0.]\n",
      " [-4.]] \n",
      " T(u) + T(v): \n",
      " [[ 9.]\n",
      " [ 0.]\n",
      " [-4.]]\n"
     ]
    }
   ],
   "source": [
    "u = np.array([[1], [-2]])\n",
    "v = np.array([[2], [4]])\n",
    "\n",
    "k = 7\n",
    "\n",
    "print(f\"T(kv): \\n {T(k*v)}, \\n k*T(v): \\n {k*T(v)}\")\n",
    "print('\\n')\n",
    "print(f\"T(u+v): \\n {T(u + v)} \\n T(u) + T(v): \\n {T(u) + T(v)}\")"
   ]
  },
  {
   "cell_type": "code",
   "execution_count": 22,
   "metadata": {},
   "outputs": [
    {
     "name": "stdout",
     "output_type": "stream",
     "text": [
      "Transformation of matrix: \n",
      " [[ 3  0]\n",
      " [ 0  0]\n",
      " [ 0 -2]] \n",
      "\n",
      "Original vector: \n",
      " [[3]\n",
      " [5]], \n",
      "\n",
      " Result of the transformation: \n",
      " [[  9]\n",
      " [  0]\n",
      " [-10]]\n"
     ]
    }
   ],
   "source": [
    "def L(v):\n",
    "    A = np.array([[3,0], [0,0], [0,-2]])\n",
    "    print(f\"Transformation of matrix: \\n {A} \\n\")\n",
    "    w = A @ v\n",
    "\n",
    "    return w\n",
    "\n",
    "v = np.array([[3], [5]])\n",
    "w = L(v)\n",
    "\n",
    "print(f\"Original vector: \\n {v}, \\n\\n Result of the transformation: \\n {w}\")"
   ]
  },
  {
   "cell_type": "code",
   "execution_count": null,
   "metadata": {},
   "outputs": [],
   "source": []
  }
 ],
 "metadata": {
  "kernelspec": {
   "display_name": "Python 3",
   "language": "python",
   "name": "python3"
  },
  "language_info": {
   "codemirror_mode": {
    "name": "ipython",
    "version": 3
   },
   "file_extension": ".py",
   "mimetype": "text/x-python",
   "name": "python",
   "nbconvert_exporter": "python",
   "pygments_lexer": "ipython3",
   "version": "3.12.5"
  }
 },
 "nbformat": 4,
 "nbformat_minor": 2
}
