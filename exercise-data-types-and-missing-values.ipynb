{
 "cells": [
  {
   "cell_type": "markdown",
   "id": "d0bb2244",
   "metadata": {
    "papermill": {
     "duration": 0.005302,
     "end_time": "2024-08-14T17:43:59.529574",
     "exception": false,
     "start_time": "2024-08-14T17:43:59.524272",
     "status": "completed"
    },
    "tags": []
   },
   "source": [
    "**This notebook is an exercise in the [Pandas](https://www.kaggle.com/learn/pandas) course.  You can reference the tutorial at [this link](https://www.kaggle.com/residentmario/data-types-and-missing-values).**\n",
    "\n",
    "---\n"
   ]
  },
  {
   "cell_type": "markdown",
   "id": "34e5dbd9",
   "metadata": {
    "papermill": {
     "duration": 0.004331,
     "end_time": "2024-08-14T17:43:59.538753",
     "exception": false,
     "start_time": "2024-08-14T17:43:59.534422",
     "status": "completed"
    },
    "tags": []
   },
   "source": [
    "# Introduction\n",
    "\n",
    "Run the following cell to load your data and some utility functions."
   ]
  },
  {
   "cell_type": "code",
   "execution_count": 1,
   "id": "23405e5c",
   "metadata": {
    "execution": {
     "iopub.execute_input": "2024-08-14T17:43:59.549420Z",
     "iopub.status.busy": "2024-08-14T17:43:59.549033Z",
     "iopub.status.idle": "2024-08-14T17:44:03.152736Z",
     "shell.execute_reply": "2024-08-14T17:44:03.151725Z"
    },
    "papermill": {
     "duration": 3.61177,
     "end_time": "2024-08-14T17:44:03.155137",
     "exception": false,
     "start_time": "2024-08-14T17:43:59.543367",
     "status": "completed"
    },
    "tags": []
   },
   "outputs": [
    {
     "name": "stdout",
     "output_type": "stream",
     "text": [
      "Setup complete.\n"
     ]
    }
   ],
   "source": [
    "import pandas as pd\n",
    "\n",
    "reviews = pd.read_csv(\"../input/wine-reviews/winemag-data-130k-v2.csv\", index_col=0)\n",
    "\n",
    "from learntools.core import binder; binder.bind(globals())\n",
    "from learntools.pandas.data_types_and_missing_data import *\n",
    "print(\"Setup complete.\")"
   ]
  },
  {
   "cell_type": "markdown",
   "id": "439b9f08",
   "metadata": {
    "papermill": {
     "duration": 0.005094,
     "end_time": "2024-08-14T17:44:03.165166",
     "exception": false,
     "start_time": "2024-08-14T17:44:03.160072",
     "status": "completed"
    },
    "tags": []
   },
   "source": [
    "# Exercises"
   ]
  },
  {
   "cell_type": "markdown",
   "id": "0d8fd238",
   "metadata": {
    "papermill": {
     "duration": 0.004448,
     "end_time": "2024-08-14T17:44:03.174365",
     "exception": false,
     "start_time": "2024-08-14T17:44:03.169917",
     "status": "completed"
    },
    "tags": []
   },
   "source": [
    "## 1. \n",
    "What is the data type of the `points` column in the dataset?"
   ]
  },
  {
   "cell_type": "code",
   "execution_count": 2,
   "id": "687dc371",
   "metadata": {
    "execution": {
     "iopub.execute_input": "2024-08-14T17:44:03.185395Z",
     "iopub.status.busy": "2024-08-14T17:44:03.184998Z",
     "iopub.status.idle": "2024-08-14T17:44:03.194372Z",
     "shell.execute_reply": "2024-08-14T17:44:03.193340Z"
    },
    "papermill": {
     "duration": 0.017535,
     "end_time": "2024-08-14T17:44:03.196620",
     "exception": false,
     "start_time": "2024-08-14T17:44:03.179085",
     "status": "completed"
    },
    "tags": []
   },
   "outputs": [
    {
     "data": {
      "application/javascript": [
       "parent.postMessage({\"jupyterEvent\": \"custom.exercise_interaction\", \"data\": {\"outcomeType\": 1, \"valueTowardsCompletion\": 0.25, \"interactionType\": 1, \"questionType\": 1, \"questionId\": \"1_PointsDtype\", \"learnToolsVersion\": \"0.3.4\", \"failureMessage\": \"\", \"exceptionClass\": \"\", \"trace\": \"\"}}, \"*\")"
      ],
      "text/plain": [
       "<IPython.core.display.Javascript object>"
      ]
     },
     "metadata": {},
     "output_type": "display_data"
    },
    {
     "data": {
      "text/markdown": [
       "<span style=\"color:#33cc33\">Correct</span>"
      ],
      "text/plain": [
       "Correct"
      ]
     },
     "metadata": {},
     "output_type": "display_data"
    }
   ],
   "source": [
    "# Your code here\n",
    "dtype = reviews.points.dtype\n",
    "\n",
    "# Check your answer\n",
    "q1.check()"
   ]
  },
  {
   "cell_type": "code",
   "execution_count": 3,
   "id": "00226646",
   "metadata": {
    "execution": {
     "iopub.execute_input": "2024-08-14T17:44:03.208783Z",
     "iopub.status.busy": "2024-08-14T17:44:03.207883Z",
     "iopub.status.idle": "2024-08-14T17:44:03.211893Z",
     "shell.execute_reply": "2024-08-14T17:44:03.211092Z"
    },
    "papermill": {
     "duration": 0.012177,
     "end_time": "2024-08-14T17:44:03.213844",
     "exception": false,
     "start_time": "2024-08-14T17:44:03.201667",
     "status": "completed"
    },
    "tags": []
   },
   "outputs": [],
   "source": [
    "#q1.hint()\n",
    "#q1.solution()"
   ]
  },
  {
   "cell_type": "markdown",
   "id": "c3593a8b",
   "metadata": {
    "papermill": {
     "duration": 0.004754,
     "end_time": "2024-08-14T17:44:03.223669",
     "exception": false,
     "start_time": "2024-08-14T17:44:03.218915",
     "status": "completed"
    },
    "tags": []
   },
   "source": [
    "## 2. \n",
    "Create a Series from entries in the `points` column, but convert the entries to strings. Hint: strings are `str` in native Python."
   ]
  },
  {
   "cell_type": "code",
   "execution_count": 4,
   "id": "dcf19d71",
   "metadata": {
    "execution": {
     "iopub.execute_input": "2024-08-14T17:44:03.235419Z",
     "iopub.status.busy": "2024-08-14T17:44:03.234782Z",
     "iopub.status.idle": "2024-08-14T17:44:03.278314Z",
     "shell.execute_reply": "2024-08-14T17:44:03.277297Z"
    },
    "papermill": {
     "duration": 0.051919,
     "end_time": "2024-08-14T17:44:03.280604",
     "exception": false,
     "start_time": "2024-08-14T17:44:03.228685",
     "status": "completed"
    },
    "tags": []
   },
   "outputs": [
    {
     "data": {
      "application/javascript": [
       "parent.postMessage({\"jupyterEvent\": \"custom.exercise_interaction\", \"data\": {\"outcomeType\": 1, \"valueTowardsCompletion\": 0.25, \"interactionType\": 1, \"questionType\": 1, \"questionId\": \"2_StrPoints\", \"learnToolsVersion\": \"0.3.4\", \"failureMessage\": \"\", \"exceptionClass\": \"\", \"trace\": \"\"}}, \"*\")"
      ],
      "text/plain": [
       "<IPython.core.display.Javascript object>"
      ]
     },
     "metadata": {},
     "output_type": "display_data"
    },
    {
     "data": {
      "text/markdown": [
       "<span style=\"color:#33cc33\">Correct</span>"
      ],
      "text/plain": [
       "Correct"
      ]
     },
     "metadata": {},
     "output_type": "display_data"
    }
   ],
   "source": [
    "point_strings = reviews.points.astype('str')\n",
    "\n",
    "# Check your answer\n",
    "q2.check()"
   ]
  },
  {
   "cell_type": "code",
   "execution_count": 5,
   "id": "8559b61d",
   "metadata": {
    "execution": {
     "iopub.execute_input": "2024-08-14T17:44:03.293273Z",
     "iopub.status.busy": "2024-08-14T17:44:03.292596Z",
     "iopub.status.idle": "2024-08-14T17:44:03.296719Z",
     "shell.execute_reply": "2024-08-14T17:44:03.295740Z"
    },
    "papermill": {
     "duration": 0.012614,
     "end_time": "2024-08-14T17:44:03.298725",
     "exception": false,
     "start_time": "2024-08-14T17:44:03.286111",
     "status": "completed"
    },
    "tags": []
   },
   "outputs": [],
   "source": [
    "#q2.hint()\n",
    "#q2.solution()"
   ]
  },
  {
   "cell_type": "markdown",
   "id": "c3aecc99",
   "metadata": {
    "papermill": {
     "duration": 0.005003,
     "end_time": "2024-08-14T17:44:03.309171",
     "exception": false,
     "start_time": "2024-08-14T17:44:03.304168",
     "status": "completed"
    },
    "tags": []
   },
   "source": [
    "## 3.\n",
    "Sometimes the price column is null. How many reviews in the dataset are missing a price?"
   ]
  },
  {
   "cell_type": "code",
   "execution_count": 6,
   "id": "99499123",
   "metadata": {
    "execution": {
     "iopub.execute_input": "2024-08-14T17:44:03.321551Z",
     "iopub.status.busy": "2024-08-14T17:44:03.320693Z",
     "iopub.status.idle": "2024-08-14T17:44:03.329241Z",
     "shell.execute_reply": "2024-08-14T17:44:03.328316Z"
    },
    "papermill": {
     "duration": 0.016817,
     "end_time": "2024-08-14T17:44:03.331270",
     "exception": false,
     "start_time": "2024-08-14T17:44:03.314453",
     "status": "completed"
    },
    "tags": []
   },
   "outputs": [
    {
     "data": {
      "application/javascript": [
       "parent.postMessage({\"jupyterEvent\": \"custom.exercise_interaction\", \"data\": {\"outcomeType\": 1, \"valueTowardsCompletion\": 0.25, \"interactionType\": 1, \"questionType\": 1, \"questionId\": \"3_CountMissingPrices\", \"learnToolsVersion\": \"0.3.4\", \"failureMessage\": \"\", \"exceptionClass\": \"\", \"trace\": \"\"}}, \"*\")"
      ],
      "text/plain": [
       "<IPython.core.display.Javascript object>"
      ]
     },
     "metadata": {},
     "output_type": "display_data"
    },
    {
     "data": {
      "text/markdown": [
       "<span style=\"color:#33cc33\">Correct</span>"
      ],
      "text/plain": [
       "Correct"
      ]
     },
     "metadata": {},
     "output_type": "display_data"
    }
   ],
   "source": [
    "n_missing_prices = reviews.price.isnull().sum()\n",
    "\n",
    "# Check your answer\n",
    "q3.check()"
   ]
  },
  {
   "cell_type": "code",
   "execution_count": 7,
   "id": "3d721b9a",
   "metadata": {
    "execution": {
     "iopub.execute_input": "2024-08-14T17:44:03.343760Z",
     "iopub.status.busy": "2024-08-14T17:44:03.343432Z",
     "iopub.status.idle": "2024-08-14T17:44:03.347315Z",
     "shell.execute_reply": "2024-08-14T17:44:03.346358Z"
    },
    "papermill": {
     "duration": 0.012548,
     "end_time": "2024-08-14T17:44:03.349359",
     "exception": false,
     "start_time": "2024-08-14T17:44:03.336811",
     "status": "completed"
    },
    "tags": []
   },
   "outputs": [],
   "source": [
    "#q3.hint()\n",
    "#q3.solution()"
   ]
  },
  {
   "cell_type": "markdown",
   "id": "62bc3a3b",
   "metadata": {
    "papermill": {
     "duration": 0.006245,
     "end_time": "2024-08-14T17:44:03.361303",
     "exception": false,
     "start_time": "2024-08-14T17:44:03.355058",
     "status": "completed"
    },
    "tags": []
   },
   "source": [
    "## 4.\n",
    "What are the most common wine-producing regions? Create a Series counting the number of times each value occurs in the `region_1` field. This field is often missing data, so replace missing values with `Unknown`. Sort in descending order.  Your output should look something like this:\n",
    "\n",
    "```\n",
    "Unknown                    21247\n",
    "Napa Valley                 4480\n",
    "                           ...  \n",
    "Bardolino Superiore            1\n",
    "Primitivo del Tarantino        1\n",
    "Name: region_1, Length: 1230, dtype: int64\n",
    "```"
   ]
  },
  {
   "cell_type": "code",
   "execution_count": 8,
   "id": "da8dda79",
   "metadata": {
    "execution": {
     "iopub.execute_input": "2024-08-14T17:44:03.374464Z",
     "iopub.status.busy": "2024-08-14T17:44:03.373719Z",
     "iopub.status.idle": "2024-08-14T17:44:03.394178Z",
     "shell.execute_reply": "2024-08-14T17:44:03.393218Z"
    },
    "papermill": {
     "duration": 0.029245,
     "end_time": "2024-08-14T17:44:03.396228",
     "exception": false,
     "start_time": "2024-08-14T17:44:03.366983",
     "status": "completed"
    },
    "tags": []
   },
   "outputs": [
    {
     "data": {
      "text/plain": [
       "region_1\n",
       "Napa Valley                4480\n",
       "Columbia Valley (WA)       4124\n",
       "Russian River Valley       3091\n",
       "California                 2629\n",
       "Paso Robles                2350\n",
       "                           ... \n",
       "Lamezia                       1\n",
       "Trentino Superiore            1\n",
       "Grave del Friuli              1\n",
       "Vin Santo di Carmignano       1\n",
       "Paestum                       1\n",
       "Name: count, Length: 1229, dtype: int64"
      ]
     },
     "execution_count": 8,
     "metadata": {},
     "output_type": "execute_result"
    }
   ],
   "source": [
    "reviews.region_1.value_counts()"
   ]
  },
  {
   "cell_type": "code",
   "execution_count": 9,
   "id": "e6c73233",
   "metadata": {
    "execution": {
     "iopub.execute_input": "2024-08-14T17:44:03.409969Z",
     "iopub.status.busy": "2024-08-14T17:44:03.409223Z",
     "iopub.status.idle": "2024-08-14T17:44:03.422034Z",
     "shell.execute_reply": "2024-08-14T17:44:03.421095Z"
    },
    "papermill": {
     "duration": 0.021816,
     "end_time": "2024-08-14T17:44:03.423986",
     "exception": false,
     "start_time": "2024-08-14T17:44:03.402170",
     "status": "completed"
    },
    "tags": []
   },
   "outputs": [
    {
     "data": {
      "text/plain": [
       "21247"
      ]
     },
     "execution_count": 9,
     "metadata": {},
     "output_type": "execute_result"
    }
   ],
   "source": [
    "reviews.region_1.isnull().sum()"
   ]
  },
  {
   "cell_type": "code",
   "execution_count": 10,
   "id": "f0ccec7b",
   "metadata": {
    "execution": {
     "iopub.execute_input": "2024-08-14T17:44:03.437680Z",
     "iopub.status.busy": "2024-08-14T17:44:03.437070Z",
     "iopub.status.idle": "2024-08-14T17:44:03.452516Z",
     "shell.execute_reply": "2024-08-14T17:44:03.451544Z"
    },
    "papermill": {
     "duration": 0.024506,
     "end_time": "2024-08-14T17:44:03.454657",
     "exception": false,
     "start_time": "2024-08-14T17:44:03.430151",
     "status": "completed"
    },
    "tags": []
   },
   "outputs": [],
   "source": [
    "reviews.region_1 = reviews.region_1.fillna('Unknown')"
   ]
  },
  {
   "cell_type": "code",
   "execution_count": 11,
   "id": "ac94f8f4",
   "metadata": {
    "execution": {
     "iopub.execute_input": "2024-08-14T17:44:03.468572Z",
     "iopub.status.busy": "2024-08-14T17:44:03.467700Z",
     "iopub.status.idle": "2024-08-14T17:44:03.504861Z",
     "shell.execute_reply": "2024-08-14T17:44:03.503906Z"
    },
    "papermill": {
     "duration": 0.046559,
     "end_time": "2024-08-14T17:44:03.507229",
     "exception": false,
     "start_time": "2024-08-14T17:44:03.460670",
     "status": "completed"
    },
    "tags": []
   },
   "outputs": [
    {
     "data": {
      "application/javascript": [
       "parent.postMessage({\"jupyterEvent\": \"custom.exercise_interaction\", \"data\": {\"outcomeType\": 1, \"valueTowardsCompletion\": 0.25, \"interactionType\": 1, \"questionType\": 2, \"questionId\": \"4_ReviewsPerRegion\", \"learnToolsVersion\": \"0.3.4\", \"failureMessage\": \"\", \"exceptionClass\": \"\", \"trace\": \"\"}}, \"*\")"
      ],
      "text/plain": [
       "<IPython.core.display.Javascript object>"
      ]
     },
     "metadata": {},
     "output_type": "display_data"
    },
    {
     "data": {
      "text/markdown": [
       "<span style=\"color:#33cc33\">Correct</span>"
      ],
      "text/plain": [
       "Correct"
      ]
     },
     "metadata": {},
     "output_type": "display_data"
    }
   ],
   "source": [
    "reviews_per_region = reviews.region_1.value_counts().sort_values(ascending=False)\n",
    "\n",
    "# Check your answer\n",
    "q4.check()"
   ]
  },
  {
   "cell_type": "code",
   "execution_count": 12,
   "id": "1503cfa7",
   "metadata": {
    "execution": {
     "iopub.execute_input": "2024-08-14T17:44:03.521519Z",
     "iopub.status.busy": "2024-08-14T17:44:03.520857Z",
     "iopub.status.idle": "2024-08-14T17:44:03.525030Z",
     "shell.execute_reply": "2024-08-14T17:44:03.524031Z"
    },
    "papermill": {
     "duration": 0.013579,
     "end_time": "2024-08-14T17:44:03.527074",
     "exception": false,
     "start_time": "2024-08-14T17:44:03.513495",
     "status": "completed"
    },
    "tags": []
   },
   "outputs": [],
   "source": [
    "#q4.hint()\n",
    "#q4.solution()"
   ]
  },
  {
   "cell_type": "markdown",
   "id": "0ebc2b21",
   "metadata": {
    "papermill": {
     "duration": 0.006099,
     "end_time": "2024-08-14T17:44:03.539419",
     "exception": false,
     "start_time": "2024-08-14T17:44:03.533320",
     "status": "completed"
    },
    "tags": []
   },
   "source": [
    "# Keep going\n",
    "\n",
    "Move on to **[renaming and combining](https://www.kaggle.com/residentmario/renaming-and-combining)**."
   ]
  },
  {
   "cell_type": "markdown",
   "id": "f38222af",
   "metadata": {
    "papermill": {
     "duration": 0.005881,
     "end_time": "2024-08-14T17:44:03.551480",
     "exception": false,
     "start_time": "2024-08-14T17:44:03.545599",
     "status": "completed"
    },
    "tags": []
   },
   "source": [
    "---\n",
    "\n",
    "\n",
    "\n",
    "\n",
    "*Have questions or comments? Visit the [course discussion forum](https://www.kaggle.com/learn/pandas/discussion) to chat with other learners.*"
   ]
  }
 ],
 "metadata": {
  "kaggle": {
   "accelerator": "none",
   "dataSources": [
    {
     "datasetId": 655,
     "sourceId": 1252,
     "sourceType": "datasetVersion"
    },
    {
     "datasetId": 2321,
     "sourceId": 3919,
     "sourceType": "datasetVersion"
    },
    {
     "datasetId": 2894,
     "sourceId": 4877,
     "sourceType": "datasetVersion"
    },
    {
     "datasetId": 3491,
     "sourceId": 5624,
     "sourceType": "datasetVersion"
    },
    {
     "datasetId": 1442,
     "sourceId": 8172,
     "sourceType": "datasetVersion"
    },
    {
     "datasetId": 9366,
     "sourceId": 13206,
     "sourceType": "datasetVersion"
    },
    {
     "datasetId": 179555,
     "sourceId": 403916,
     "sourceType": "datasetVersion"
    },
    {
     "datasetId": 4549,
     "sourceId": 466349,
     "sourceType": "datasetVersion"
    },
    {
     "datasetId": 2478,
     "sourceId": 1151655,
     "sourceType": "datasetVersion"
    },
    {
     "datasetId": 10128,
     "sourceId": 5438389,
     "sourceType": "datasetVersion"
    }
   ],
   "isGpuEnabled": false,
   "isInternetEnabled": false,
   "language": "python",
   "sourceType": "notebook"
  },
  "kernelspec": {
   "display_name": "Python 3",
   "language": "python",
   "name": "python3"
  },
  "language_info": {
   "codemirror_mode": {
    "name": "ipython",
    "version": 3
   },
   "file_extension": ".py",
   "mimetype": "text/x-python",
   "name": "python",
   "nbconvert_exporter": "python",
   "pygments_lexer": "ipython3",
   "version": "3.10.13"
  },
  "papermill": {
   "default_parameters": {},
   "duration": 7.117823,
   "end_time": "2024-08-14T17:44:04.076833",
   "environment_variables": {},
   "exception": null,
   "input_path": "__notebook__.ipynb",
   "output_path": "__notebook__.ipynb",
   "parameters": {},
   "start_time": "2024-08-14T17:43:56.959010",
   "version": "2.5.0"
  }
 },
 "nbformat": 4,
 "nbformat_minor": 5
}
