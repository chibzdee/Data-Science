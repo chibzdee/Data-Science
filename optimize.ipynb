{
 "cells": [
  {
   "cell_type": "code",
   "execution_count": 1,
   "metadata": {},
   "outputs": [],
   "source": [
    "import pandas as pd\n",
    "import numpy as np"
   ]
  },
  {
   "cell_type": "code",
   "execution_count": 2,
   "metadata": {},
   "outputs": [],
   "source": [
    "df = pd.read_csv('prices.csv')"
   ]
  },
  {
   "cell_type": "code",
   "execution_count": 4,
   "metadata": {},
   "outputs": [
    {
     "data": {
      "text/html": [
       "<div>\n",
       "<style scoped>\n",
       "    .dataframe tbody tr th:only-of-type {\n",
       "        vertical-align: middle;\n",
       "    }\n",
       "\n",
       "    .dataframe tbody tr th {\n",
       "        vertical-align: top;\n",
       "    }\n",
       "\n",
       "    .dataframe thead th {\n",
       "        text-align: right;\n",
       "    }\n",
       "</style>\n",
       "<table border=\"1\" class=\"dataframe\">\n",
       "  <thead>\n",
       "    <tr style=\"text-align: right;\">\n",
       "      <th></th>\n",
       "      <th>date</th>\n",
       "      <th>price_supplier_a_dollars_per_item</th>\n",
       "      <th>price_supplier_b_dollars_per_item</th>\n",
       "    </tr>\n",
       "  </thead>\n",
       "  <tbody>\n",
       "    <tr>\n",
       "      <th>0</th>\n",
       "      <td>1/02/2016</td>\n",
       "      <td>104</td>\n",
       "      <td>76</td>\n",
       "    </tr>\n",
       "    <tr>\n",
       "      <th>1</th>\n",
       "      <td>1/03/2016</td>\n",
       "      <td>108</td>\n",
       "      <td>76</td>\n",
       "    </tr>\n",
       "    <tr>\n",
       "      <th>2</th>\n",
       "      <td>1/04/2016</td>\n",
       "      <td>101</td>\n",
       "      <td>84</td>\n",
       "    </tr>\n",
       "    <tr>\n",
       "      <th>3</th>\n",
       "      <td>1/05/2016</td>\n",
       "      <td>104</td>\n",
       "      <td>79</td>\n",
       "    </tr>\n",
       "    <tr>\n",
       "      <th>4</th>\n",
       "      <td>1/06/2016</td>\n",
       "      <td>102</td>\n",
       "      <td>81</td>\n",
       "    </tr>\n",
       "  </tbody>\n",
       "</table>\n",
       "</div>"
      ],
      "text/plain": [
       "        date  price_supplier_a_dollars_per_item  \\\n",
       "0  1/02/2016                                104   \n",
       "1  1/03/2016                                108   \n",
       "2  1/04/2016                                101   \n",
       "3  1/05/2016                                104   \n",
       "4  1/06/2016                                102   \n",
       "\n",
       "   price_supplier_b_dollars_per_item  \n",
       "0                                 76  \n",
       "1                                 76  \n",
       "2                                 84  \n",
       "3                                 79  \n",
       "4                                 81  "
      ]
     },
     "execution_count": 4,
     "metadata": {},
     "output_type": "execute_result"
    }
   ],
   "source": [
    "df.head()"
   ]
  },
  {
   "cell_type": "code",
   "execution_count": 5,
   "metadata": {},
   "outputs": [],
   "source": [
    "# Create the variables to store the prices from suppler A and Supplier B\n",
    "\n",
    "prices_A = df['price_supplier_a_dollars_per_item']\n",
    "prices_B = df['price_supplier_b_dollars_per_item']"
   ]
  },
  {
   "cell_type": "code",
   "execution_count": 7,
   "metadata": {},
   "outputs": [
    {
     "data": {
      "text/plain": [
       "0    104\n",
       "1    108\n",
       "2    101\n",
       "3    104\n",
       "4    102\n",
       "Name: price_supplier_a_dollars_per_item, dtype: int64"
      ]
     },
     "execution_count": 7,
     "metadata": {},
     "output_type": "execute_result"
    }
   ],
   "source": [
    "prices_A.head()"
   ]
  },
  {
   "cell_type": "code",
   "execution_count": 8,
   "metadata": {},
   "outputs": [
    {
     "data": {
      "text/plain": [
       "0    76\n",
       "1    76\n",
       "2    84\n",
       "3    79\n",
       "4    81\n",
       "Name: price_supplier_b_dollars_per_item, dtype: int64"
      ]
     },
     "execution_count": 8,
     "metadata": {},
     "output_type": "execute_result"
    }
   ],
   "source": [
    "prices_B.head()"
   ]
  },
  {
   "cell_type": "code",
   "execution_count": 9,
   "metadata": {},
   "outputs": [],
   "source": [
    "# Step 1: Define the combined Price Function:\n",
    "\n",
    "def f_of_omega(omega, pA, pB):\n",
    "    return omega * pA + (1 - omega) * pB"
   ]
  },
  {
   "cell_type": "code",
   "execution_count": null,
   "metadata": {},
   "outputs": [],
   "source": [
    "# Step 2: Get the variance of the combined price:\n",
    "\n",
    "def L_of_omega(omega, pA, pB):\n",
    "    f = f_of_omega(omega, pA, pB)\n",
    "    return np.var(f)"
   ]
  },
  {
   "cell_type": "code",
   "execution_count": null,
   "metadata": {},
   "outputs": [
    {
     "name": "stdout",
     "output_type": "stream",
     "text": [
      "Optimal Omega: 0.7020000000000001\n",
      "Min Variance: 9.24971888\n"
     ]
    }
   ],
   "source": [
    "# Step 3: Find the optimal w:\n",
    "\n",
    "N = 1001\n",
    "\n",
    "omega_array = np.linspace(0, 1, N, endpoint=True)\n",
    "\n",
    "L_array = [L_of_omega(omega, prices_A, prices_B) for omega in omega_array] # Computes the variance for each omega in the omega array and stores it in the list L_array\n",
    "\n",
    "# Find the optimal omega:\n",
    "optimal_omega = omega_array[np.argmin(L_array)] # np.argmin returns the index of the smallest value in L_array, the index corresponds to the position  of the optimal omega in omega_array\n",
    "min_variance = np.min(L_array) # returns the minimum value in L_array which is the minimum value of the combined price (f_of_omega)\n",
    "\n",
    "\n",
    "# Display results\n",
    "print(f\"Optimal Omega: {optimal_omega}\")\n",
    "print(f\"Min Variance: {min_variance}\")"
   ]
  },
  {
   "cell_type": "code",
   "execution_count": 12,
   "metadata": {},
   "outputs": [],
   "source": [
    "import matplotlib.pyplot as plt"
   ]
  },
  {
   "cell_type": "code",
   "execution_count": 15,
   "metadata": {},
   "outputs": [
    {
     "data": {
      "image/png": "[encoded data removed]",
      "text/plain": [
       "<Figure size 640x480 with 1 Axes>"
      ]
     },
     "metadata": {},
     "output_type": "display_data"
    }
   ],
   "source": [
    "L_array = np.array(L_array)\n",
    "delta_omega = 1e-5\n",
    "derivative = (L_array[1:] - L_array[:-1]) / delta_omega\n",
    "\n",
    "# Plot the derivative\n",
    "plt.plot(omega_array[:-1], derivative, label='Derivative of L(omega)')\n",
    "plt.axhline(0, color='red', linestyle='--', label='Zero derivative')\n",
    "plt.xlabel('Omega')\n",
    "plt.ylabel('dL/dω')\n",
    "plt.title('Derivative of L(omega)')\n",
    "plt.legend()\n",
    "plt.grid(True)\n",
    "plt.show()"
   ]
  },
  {
   "cell_type": "code",
   "execution_count": null,
   "metadata": {},
   "outputs": [],
   "source": []
  }
 ],
 "metadata": {
  "kernelspec": {
   "display_name": "Python 3",
   "language": "python",
   "name": "python3"
  },
  "language_info": {
   "codemirror_mode": {
    "name": "ipython",
    "version": 3
   },
   "file_extension": ".py",
   "mimetype": "text/x-python",
   "name": "python",
   "nbconvert_exporter": "python",
   "pygments_lexer": "ipython3",
   "version": "3.12.5"
  }
 },
 "nbformat": 4,
 "nbformat_minor": 2
}
