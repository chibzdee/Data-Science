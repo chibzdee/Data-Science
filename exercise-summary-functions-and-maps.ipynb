{
 "cells": [
  {
   "cell_type": "markdown",
   "id": "043f310e",
   "metadata": {
    "papermill": {
     "duration": 0.010413,
     "end_time": "2024-08-13T23:30:16.359062",
     "exception": false,
     "start_time": "2024-08-13T23:30:16.348649",
     "status": "completed"
    },
    "tags": []
   },
   "source": [
    "**This notebook is an exercise in the [Pandas](https://www.kaggle.com/learn/pandas) course.  You can reference the tutorial at [this link](https://www.kaggle.com/residentmario/summary-functions-and-maps).**\n",
    "\n",
    "---\n"
   ]
  },
  {
   "cell_type": "markdown",
   "id": "b44a3760",
   "metadata": {
    "papermill": {
     "duration": 0.009719,
     "end_time": "2024-08-13T23:30:16.378982",
     "exception": false,
     "start_time": "2024-08-13T23:30:16.369263",
     "status": "completed"
    },
    "tags": []
   },
   "source": [
    "# Introduction\n",
    "\n",
    "Now you are ready to get a deeper understanding of your data.\n",
    "\n",
    "Run the following cell to load your data and some utility functions (including code to check your answers)."
   ]
  },
  {
   "cell_type": "code",
   "execution_count": 1,
   "id": "5c63184e",
   "metadata": {
    "execution": {
     "iopub.execute_input": "2024-08-13T23:30:16.401394Z",
     "iopub.status.busy": "2024-08-13T23:30:16.400960Z",
     "iopub.status.idle": "2024-08-13T23:30:26.473900Z",
     "shell.execute_reply": "2024-08-13T23:30:26.472359Z"
    },
    "papermill": {
     "duration": 10.087931,
     "end_time": "2024-08-13T23:30:26.477154",
     "exception": false,
     "start_time": "2024-08-13T23:30:16.389223",
     "status": "completed"
    },
    "tags": []
   },
   "outputs": [
    {
     "name": "stdout",
     "output_type": "stream",
     "text": [
      "Setup complete.\n"
     ]
    },
    {
     "data": {
      "text/html": [
       "<div>\n",
       "<style scoped>\n",
       "    .dataframe tbody tr th:only-of-type {\n",
       "        vertical-align: middle;\n",
       "    }\n",
       "\n",
       "    .dataframe tbody tr th {\n",
       "        vertical-align: top;\n",
       "    }\n",
       "\n",
       "    .dataframe thead th {\n",
       "        text-align: right;\n",
       "    }\n",
       "</style>\n",
       "<table border=\"1\" class=\"dataframe\">\n",
       "  <thead>\n",
       "    <tr style=\"text-align: right;\">\n",
       "      <th></th>\n",
       "      <th>country</th>\n",
       "      <th>description</th>\n",
       "      <th>designation</th>\n",
       "      <th>points</th>\n",
       "      <th>price</th>\n",
       "      <th>province</th>\n",
       "      <th>region_1</th>\n",
       "      <th>region_2</th>\n",
       "      <th>taster_name</th>\n",
       "      <th>taster_twitter_handle</th>\n",
       "      <th>title</th>\n",
       "      <th>variety</th>\n",
       "      <th>winery</th>\n",
       "    </tr>\n",
       "  </thead>\n",
       "  <tbody>\n",
       "    <tr>\n",
       "      <th>0</th>\n",
       "      <td>Italy</td>\n",
       "      <td>Aromas include tropical fruit, broom, brimston...</td>\n",
       "      <td>Vulkà Bianco</td>\n",
       "      <td>87</td>\n",
       "      <td>NaN</td>\n",
       "      <td>Sicily &amp; Sardinia</td>\n",
       "      <td>Etna</td>\n",
       "      <td>NaN</td>\n",
       "      <td>Kerin O’Keefe</td>\n",
       "      <td>@kerinokeefe</td>\n",
       "      <td>Nicosia 2013 Vulkà Bianco  (Etna)</td>\n",
       "      <td>White Blend</td>\n",
       "      <td>Nicosia</td>\n",
       "    </tr>\n",
       "    <tr>\n",
       "      <th>1</th>\n",
       "      <td>Portugal</td>\n",
       "      <td>This is ripe and fruity, a wine that is smooth...</td>\n",
       "      <td>Avidagos</td>\n",
       "      <td>87</td>\n",
       "      <td>15.0</td>\n",
       "      <td>Douro</td>\n",
       "      <td>NaN</td>\n",
       "      <td>NaN</td>\n",
       "      <td>Roger Voss</td>\n",
       "      <td>@vossroger</td>\n",
       "      <td>Quinta dos Avidagos 2011 Avidagos Red (Douro)</td>\n",
       "      <td>Portuguese Red</td>\n",
       "      <td>Quinta dos Avidagos</td>\n",
       "    </tr>\n",
       "    <tr>\n",
       "      <th>2</th>\n",
       "      <td>US</td>\n",
       "      <td>Tart and snappy, the flavors of lime flesh and...</td>\n",
       "      <td>NaN</td>\n",
       "      <td>87</td>\n",
       "      <td>14.0</td>\n",
       "      <td>Oregon</td>\n",
       "      <td>Willamette Valley</td>\n",
       "      <td>Willamette Valley</td>\n",
       "      <td>Paul Gregutt</td>\n",
       "      <td>@paulgwine</td>\n",
       "      <td>Rainstorm 2013 Pinot Gris (Willamette Valley)</td>\n",
       "      <td>Pinot Gris</td>\n",
       "      <td>Rainstorm</td>\n",
       "    </tr>\n",
       "    <tr>\n",
       "      <th>3</th>\n",
       "      <td>US</td>\n",
       "      <td>Pineapple rind, lemon pith and orange blossom ...</td>\n",
       "      <td>Reserve Late Harvest</td>\n",
       "      <td>87</td>\n",
       "      <td>13.0</td>\n",
       "      <td>Michigan</td>\n",
       "      <td>Lake Michigan Shore</td>\n",
       "      <td>NaN</td>\n",
       "      <td>Alexander Peartree</td>\n",
       "      <td>NaN</td>\n",
       "      <td>St. Julian 2013 Reserve Late Harvest Riesling ...</td>\n",
       "      <td>Riesling</td>\n",
       "      <td>St. Julian</td>\n",
       "    </tr>\n",
       "    <tr>\n",
       "      <th>4</th>\n",
       "      <td>US</td>\n",
       "      <td>Much like the regular bottling from 2012, this...</td>\n",
       "      <td>Vintner's Reserve Wild Child Block</td>\n",
       "      <td>87</td>\n",
       "      <td>65.0</td>\n",
       "      <td>Oregon</td>\n",
       "      <td>Willamette Valley</td>\n",
       "      <td>Willamette Valley</td>\n",
       "      <td>Paul Gregutt</td>\n",
       "      <td>@paulgwine</td>\n",
       "      <td>Sweet Cheeks 2012 Vintner's Reserve Wild Child...</td>\n",
       "      <td>Pinot Noir</td>\n",
       "      <td>Sweet Cheeks</td>\n",
       "    </tr>\n",
       "  </tbody>\n",
       "</table>\n",
       "</div>"
      ],
      "text/plain": [
       "    country                                        description  \\\n",
       "0     Italy  Aromas include tropical fruit, broom, brimston...   \n",
       "1  Portugal  This is ripe and fruity, a wine that is smooth...   \n",
       "2        US  Tart and snappy, the flavors of lime flesh and...   \n",
       "3        US  Pineapple rind, lemon pith and orange blossom ...   \n",
       "4        US  Much like the regular bottling from 2012, this...   \n",
       "\n",
       "                          designation  points  price           province  \\\n",
       "0                        Vulkà Bianco      87    NaN  Sicily & Sardinia   \n",
       "1                            Avidagos      87   15.0              Douro   \n",
       "2                                 NaN      87   14.0             Oregon   \n",
       "3                Reserve Late Harvest      87   13.0           Michigan   \n",
       "4  Vintner's Reserve Wild Child Block      87   65.0             Oregon   \n",
       "\n",
       "              region_1           region_2         taster_name  \\\n",
       "0                 Etna                NaN       Kerin O’Keefe   \n",
       "1                  NaN                NaN          Roger Voss   \n",
       "2    Willamette Valley  Willamette Valley        Paul Gregutt   \n",
       "3  Lake Michigan Shore                NaN  Alexander Peartree   \n",
       "4    Willamette Valley  Willamette Valley        Paul Gregutt   \n",
       "\n",
       "  taster_twitter_handle                                              title  \\\n",
       "0          @kerinokeefe                  Nicosia 2013 Vulkà Bianco  (Etna)   \n",
       "1            @vossroger      Quinta dos Avidagos 2011 Avidagos Red (Douro)   \n",
       "2           @paulgwine       Rainstorm 2013 Pinot Gris (Willamette Valley)   \n",
       "3                   NaN  St. Julian 2013 Reserve Late Harvest Riesling ...   \n",
       "4           @paulgwine   Sweet Cheeks 2012 Vintner's Reserve Wild Child...   \n",
       "\n",
       "          variety               winery  \n",
       "0     White Blend              Nicosia  \n",
       "1  Portuguese Red  Quinta dos Avidagos  \n",
       "2      Pinot Gris            Rainstorm  \n",
       "3        Riesling           St. Julian  \n",
       "4      Pinot Noir         Sweet Cheeks  "
      ]
     },
     "execution_count": 1,
     "metadata": {},
     "output_type": "execute_result"
    }
   ],
   "source": [
    "import pandas as pd\n",
    "pd.set_option(\"display.max_rows\", 5)\n",
    "reviews = pd.read_csv(\"../input/wine-reviews/winemag-data-130k-v2.csv\", index_col=0)\n",
    "\n",
    "from learntools.core import binder; binder.bind(globals())\n",
    "from learntools.pandas.summary_functions_and_maps import *\n",
    "print(\"Setup complete.\")\n",
    "\n",
    "reviews.head()"
   ]
  },
  {
   "cell_type": "markdown",
   "id": "176ba1f2",
   "metadata": {
    "papermill": {
     "duration": 0.009622,
     "end_time": "2024-08-13T23:30:26.497088",
     "exception": false,
     "start_time": "2024-08-13T23:30:26.487466",
     "status": "completed"
    },
    "tags": []
   },
   "source": [
    "# Exercises"
   ]
  },
  {
   "cell_type": "markdown",
   "id": "7942da23",
   "metadata": {
    "papermill": {
     "duration": 0.009621,
     "end_time": "2024-08-13T23:30:26.517065",
     "exception": false,
     "start_time": "2024-08-13T23:30:26.507444",
     "status": "completed"
    },
    "tags": []
   },
   "source": [
    "## 1.\n",
    "\n",
    "What is the median of the `points` column in the `reviews` DataFrame?"
   ]
  },
  {
   "cell_type": "code",
   "execution_count": 2,
   "id": "f42f4df2",
   "metadata": {
    "execution": {
     "iopub.execute_input": "2024-08-13T23:30:26.542212Z",
     "iopub.status.busy": "2024-08-13T23:30:26.541763Z",
     "iopub.status.idle": "2024-08-13T23:30:26.557585Z",
     "shell.execute_reply": "2024-08-13T23:30:26.556316Z"
    },
    "papermill": {
     "duration": 0.03192,
     "end_time": "2024-08-13T23:30:26.561075",
     "exception": false,
     "start_time": "2024-08-13T23:30:26.529155",
     "status": "completed"
    },
    "tags": []
   },
   "outputs": [
    {
     "data": {
      "application/javascript": [
       "parent.postMessage({\"jupyterEvent\": \"custom.exercise_interaction\", \"data\": {\"outcomeType\": 1, \"valueTowardsCompletion\": 0.14285714285714285, \"interactionType\": 1, \"questionType\": 1, \"questionId\": \"1_MedianPoints\", \"learnToolsVersion\": \"0.3.4\", \"failureMessage\": \"\", \"exceptionClass\": \"\", \"trace\": \"\"}}, \"*\")"
      ],
      "text/plain": [
       "<IPython.core.display.Javascript object>"
      ]
     },
     "metadata": {},
     "output_type": "display_data"
    },
    {
     "data": {
      "text/markdown": [
       "<span style=\"color:#33cc33\">Correct</span>"
      ],
      "text/plain": [
       "Correct"
      ]
     },
     "metadata": {},
     "output_type": "display_data"
    }
   ],
   "source": [
    "median_points = reviews.points.median()\n",
    "\n",
    "# Check your answer\n",
    "q1.check()"
   ]
  },
  {
   "cell_type": "code",
   "execution_count": 3,
   "id": "cfabf318",
   "metadata": {
    "execution": {
     "iopub.execute_input": "2024-08-13T23:30:26.585164Z",
     "iopub.status.busy": "2024-08-13T23:30:26.584710Z",
     "iopub.status.idle": "2024-08-13T23:30:26.590551Z",
     "shell.execute_reply": "2024-08-13T23:30:26.588895Z"
    },
    "papermill": {
     "duration": 0.021321,
     "end_time": "2024-08-13T23:30:26.593343",
     "exception": false,
     "start_time": "2024-08-13T23:30:26.572022",
     "status": "completed"
    },
    "tags": []
   },
   "outputs": [],
   "source": [
    "#q1.hint()\n",
    "#q1.solution()"
   ]
  },
  {
   "cell_type": "markdown",
   "id": "059209f0",
   "metadata": {
    "papermill": {
     "duration": 0.013122,
     "end_time": "2024-08-13T23:30:26.618360",
     "exception": false,
     "start_time": "2024-08-13T23:30:26.605238",
     "status": "completed"
    },
    "tags": []
   },
   "source": [
    "## 2. \n",
    "What countries are represented in the dataset? (Your answer should not include any duplicates.)"
   ]
  },
  {
   "cell_type": "code",
   "execution_count": 4,
   "id": "91ce97be",
   "metadata": {
    "execution": {
     "iopub.execute_input": "2024-08-13T23:30:26.641701Z",
     "iopub.status.busy": "2024-08-13T23:30:26.641295Z",
     "iopub.status.idle": "2024-08-13T23:30:26.662752Z",
     "shell.execute_reply": "2024-08-13T23:30:26.661373Z"
    },
    "papermill": {
     "duration": 0.036649,
     "end_time": "2024-08-13T23:30:26.665593",
     "exception": false,
     "start_time": "2024-08-13T23:30:26.628944",
     "status": "completed"
    },
    "tags": []
   },
   "outputs": [
    {
     "data": {
      "application/javascript": [
       "parent.postMessage({\"jupyterEvent\": \"custom.exercise_interaction\", \"data\": {\"outcomeType\": 1, \"valueTowardsCompletion\": 0.14285714285714285, \"interactionType\": 1, \"questionType\": 2, \"questionId\": \"2_UniqueCountries\", \"learnToolsVersion\": \"0.3.4\", \"failureMessage\": \"\", \"exceptionClass\": \"\", \"trace\": \"\"}}, \"*\")"
      ],
      "text/plain": [
       "<IPython.core.display.Javascript object>"
      ]
     },
     "metadata": {},
     "output_type": "display_data"
    },
    {
     "data": {
      "text/markdown": [
       "<span style=\"color:#33cc33\">Correct</span>"
      ],
      "text/plain": [
       "Correct"
      ]
     },
     "metadata": {},
     "output_type": "display_data"
    }
   ],
   "source": [
    "countries = reviews.country.unique()\n",
    "\n",
    "# Check your answer\n",
    "q2.check()"
   ]
  },
  {
   "cell_type": "code",
   "execution_count": 5,
   "id": "da7faf26",
   "metadata": {
    "execution": {
     "iopub.execute_input": "2024-08-13T23:30:26.691627Z",
     "iopub.status.busy": "2024-08-13T23:30:26.691198Z",
     "iopub.status.idle": "2024-08-13T23:30:26.696418Z",
     "shell.execute_reply": "2024-08-13T23:30:26.695197Z"
    },
    "papermill": {
     "duration": 0.02167,
     "end_time": "2024-08-13T23:30:26.699028",
     "exception": false,
     "start_time": "2024-08-13T23:30:26.677358",
     "status": "completed"
    },
    "tags": []
   },
   "outputs": [],
   "source": [
    "#q2.hint()\n",
    "#q2.solution()"
   ]
  },
  {
   "cell_type": "markdown",
   "id": "47648b4d",
   "metadata": {
    "papermill": {
     "duration": 0.010843,
     "end_time": "2024-08-13T23:30:26.720923",
     "exception": false,
     "start_time": "2024-08-13T23:30:26.710080",
     "status": "completed"
    },
    "tags": []
   },
   "source": [
    "## 3.\n",
    "How often does each country appear in the dataset? Create a Series `reviews_per_country` mapping countries to the count of reviews of wines from that country."
   ]
  },
  {
   "cell_type": "code",
   "execution_count": 6,
   "id": "b73d544d",
   "metadata": {
    "execution": {
     "iopub.execute_input": "2024-08-13T23:30:26.744363Z",
     "iopub.status.busy": "2024-08-13T23:30:26.743926Z",
     "iopub.status.idle": "2024-08-13T23:30:26.779381Z",
     "shell.execute_reply": "2024-08-13T23:30:26.778200Z"
    },
    "papermill": {
     "duration": 0.050113,
     "end_time": "2024-08-13T23:30:26.781944",
     "exception": false,
     "start_time": "2024-08-13T23:30:26.731831",
     "status": "completed"
    },
    "tags": []
   },
   "outputs": [
    {
     "data": {
      "application/javascript": [
       "parent.postMessage({\"jupyterEvent\": \"custom.exercise_interaction\", \"data\": {\"outcomeType\": 1, \"valueTowardsCompletion\": 0.14285714285714285, \"interactionType\": 1, \"questionType\": 1, \"questionId\": \"3_ReviewsPerCountry\", \"learnToolsVersion\": \"0.3.4\", \"failureMessage\": \"\", \"exceptionClass\": \"\", \"trace\": \"\"}}, \"*\")"
      ],
      "text/plain": [
       "<IPython.core.display.Javascript object>"
      ]
     },
     "metadata": {},
     "output_type": "display_data"
    },
    {
     "data": {
      "text/markdown": [
       "<span style=\"color:#33cc33\">Correct</span>"
      ],
      "text/plain": [
       "Correct"
      ]
     },
     "metadata": {},
     "output_type": "display_data"
    }
   ],
   "source": [
    "reviews_per_country = reviews.country.value_counts()\n",
    "\n",
    "# Check your answer\n",
    "q3.check()"
   ]
  },
  {
   "cell_type": "code",
   "execution_count": 7,
   "id": "51bd0686",
   "metadata": {
    "execution": {
     "iopub.execute_input": "2024-08-13T23:30:26.806015Z",
     "iopub.status.busy": "2024-08-13T23:30:26.805588Z",
     "iopub.status.idle": "2024-08-13T23:30:26.810738Z",
     "shell.execute_reply": "2024-08-13T23:30:26.809585Z"
    },
    "papermill": {
     "duration": 0.020071,
     "end_time": "2024-08-13T23:30:26.813201",
     "exception": false,
     "start_time": "2024-08-13T23:30:26.793130",
     "status": "completed"
    },
    "tags": []
   },
   "outputs": [],
   "source": [
    "#q3.hint()\n",
    "#q3.solution()"
   ]
  },
  {
   "cell_type": "markdown",
   "id": "641fa368",
   "metadata": {
    "papermill": {
     "duration": 0.01168,
     "end_time": "2024-08-13T23:30:26.835928",
     "exception": false,
     "start_time": "2024-08-13T23:30:26.824248",
     "status": "completed"
    },
    "tags": []
   },
   "source": [
    "## 4.\n",
    "Create variable `centered_price` containing a version of the `price` column with the mean price subtracted.\n",
    "\n",
    "(Note: this 'centering' transformation is a common preprocessing step before applying various machine learning algorithms.) "
   ]
  },
  {
   "cell_type": "code",
   "execution_count": 8,
   "id": "3bd92d4a",
   "metadata": {
    "execution": {
     "iopub.execute_input": "2024-08-13T23:30:26.862039Z",
     "iopub.status.busy": "2024-08-13T23:30:26.861614Z",
     "iopub.status.idle": "2024-08-13T23:30:26.875611Z",
     "shell.execute_reply": "2024-08-13T23:30:26.874362Z"
    },
    "papermill": {
     "duration": 0.030155,
     "end_time": "2024-08-13T23:30:26.878535",
     "exception": false,
     "start_time": "2024-08-13T23:30:26.848380",
     "status": "completed"
    },
    "tags": []
   },
   "outputs": [
    {
     "data": {
      "application/javascript": [
       "parent.postMessage({\"jupyterEvent\": \"custom.exercise_interaction\", \"data\": {\"outcomeType\": 1, \"valueTowardsCompletion\": 0.14285714285714285, \"interactionType\": 1, \"questionType\": 1, \"questionId\": \"4_CenteredPrice\", \"learnToolsVersion\": \"0.3.4\", \"failureMessage\": \"\", \"exceptionClass\": \"\", \"trace\": \"\"}}, \"*\")"
      ],
      "text/plain": [
       "<IPython.core.display.Javascript object>"
      ]
     },
     "metadata": {},
     "output_type": "display_data"
    },
    {
     "data": {
      "text/markdown": [
       "<span style=\"color:#33cc33\">Correct</span>"
      ],
      "text/plain": [
       "Correct"
      ]
     },
     "metadata": {},
     "output_type": "display_data"
    }
   ],
   "source": [
    "centered_price = reviews.price - reviews.price.mean()\n",
    "\n",
    "# Check your answer\n",
    "q4.check()"
   ]
  },
  {
   "cell_type": "code",
   "execution_count": 9,
   "id": "49225453",
   "metadata": {
    "execution": {
     "iopub.execute_input": "2024-08-13T23:30:26.905240Z",
     "iopub.status.busy": "2024-08-13T23:30:26.904790Z",
     "iopub.status.idle": "2024-08-13T23:30:26.910382Z",
     "shell.execute_reply": "2024-08-13T23:30:26.909154Z"
    },
    "papermill": {
     "duration": 0.023147,
     "end_time": "2024-08-13T23:30:26.913150",
     "exception": false,
     "start_time": "2024-08-13T23:30:26.890003",
     "status": "completed"
    },
    "tags": []
   },
   "outputs": [],
   "source": [
    "#q4.hint()\n",
    "#q4.solution()"
   ]
  },
  {
   "cell_type": "markdown",
   "id": "befa189b",
   "metadata": {
    "papermill": {
     "duration": 0.011061,
     "end_time": "2024-08-13T23:30:26.935804",
     "exception": false,
     "start_time": "2024-08-13T23:30:26.924743",
     "status": "completed"
    },
    "tags": []
   },
   "source": [
    "## 5.\n",
    "I'm an economical wine buyer. Which wine is the \"best bargain\"? Create a variable `bargain_wine` with the title of the wine with the highest points-to-price ratio in the dataset."
   ]
  },
  {
   "cell_type": "code",
   "execution_count": 10,
   "id": "3176b93e",
   "metadata": {
    "execution": {
     "iopub.execute_input": "2024-08-13T23:30:26.962331Z",
     "iopub.status.busy": "2024-08-13T23:30:26.961904Z",
     "iopub.status.idle": "2024-08-13T23:30:26.974591Z",
     "shell.execute_reply": "2024-08-13T23:30:26.973455Z"
    },
    "papermill": {
     "duration": 0.029255,
     "end_time": "2024-08-13T23:30:26.977321",
     "exception": false,
     "start_time": "2024-08-13T23:30:26.948066",
     "status": "completed"
    },
    "tags": []
   },
   "outputs": [
    {
     "data": {
      "text/plain": [
       "0              NaN\n",
       "1         5.800000\n",
       "            ...   \n",
       "129969    2.812500\n",
       "129970    4.285714\n",
       "Name: bargain, Length: 129971, dtype: float64"
      ]
     },
     "execution_count": 10,
     "metadata": {},
     "output_type": "execute_result"
    }
   ],
   "source": [
    "def best_bargain(data):\n",
    "    reviews['bargain'] = data.points/data.price\n",
    "    return reviews['bargain']\n",
    "\n",
    "\n",
    "best_bargain(reviews)"
   ]
  },
  {
   "cell_type": "code",
   "execution_count": 11,
   "id": "43030445",
   "metadata": {
    "execution": {
     "iopub.execute_input": "2024-08-13T23:30:27.003001Z",
     "iopub.status.busy": "2024-08-13T23:30:27.002606Z",
     "iopub.status.idle": "2024-08-13T23:30:27.018270Z",
     "shell.execute_reply": "2024-08-13T23:30:27.016964Z"
    },
    "papermill": {
     "duration": 0.032073,
     "end_time": "2024-08-13T23:30:27.020838",
     "exception": false,
     "start_time": "2024-08-13T23:30:26.988765",
     "status": "completed"
    },
    "tags": []
   },
   "outputs": [
    {
     "data": {
      "application/javascript": [
       "parent.postMessage({\"jupyterEvent\": \"custom.exercise_interaction\", \"data\": {\"outcomeType\": 1, \"valueTowardsCompletion\": 0.14285714285714285, \"interactionType\": 1, \"questionType\": 2, \"questionId\": \"5_BargainWine\", \"learnToolsVersion\": \"0.3.4\", \"failureMessage\": \"\", \"exceptionClass\": \"\", \"trace\": \"\"}}, \"*\")"
      ],
      "text/plain": [
       "<IPython.core.display.Javascript object>"
      ]
     },
     "metadata": {},
     "output_type": "display_data"
    },
    {
     "data": {
      "text/markdown": [
       "<span style=\"color:#33cc33\">Correct</span>"
      ],
      "text/plain": [
       "Correct"
      ]
     },
     "metadata": {},
     "output_type": "display_data"
    }
   ],
   "source": [
    "bargain_wine = reviews.loc[reviews.bargain.idxmax()]['title']\n",
    "\n",
    "# Check your answer\n",
    "q5.check()"
   ]
  },
  {
   "cell_type": "code",
   "execution_count": 12,
   "id": "fa785ee4",
   "metadata": {
    "execution": {
     "iopub.execute_input": "2024-08-13T23:30:27.046617Z",
     "iopub.status.busy": "2024-08-13T23:30:27.046201Z",
     "iopub.status.idle": "2024-08-13T23:30:27.051672Z",
     "shell.execute_reply": "2024-08-13T23:30:27.050219Z"
    },
    "papermill": {
     "duration": 0.021731,
     "end_time": "2024-08-13T23:30:27.054453",
     "exception": false,
     "start_time": "2024-08-13T23:30:27.032722",
     "status": "completed"
    },
    "tags": []
   },
   "outputs": [],
   "source": [
    "#q5.hint()\n",
    "#q5.solution()"
   ]
  },
  {
   "cell_type": "markdown",
   "id": "411fa9fe",
   "metadata": {
    "papermill": {
     "duration": 0.012191,
     "end_time": "2024-08-13T23:30:27.080585",
     "exception": false,
     "start_time": "2024-08-13T23:30:27.068394",
     "status": "completed"
    },
    "tags": []
   },
   "source": [
    "## 6.\n",
    "There are only so many words you can use when describing a bottle of wine. Is a wine more likely to be \"tropical\" or \"fruity\"? Create a Series `descriptor_counts` counting how many times each of these two words appears in the `description` column in the dataset. (For simplicity, let's ignore the capitalized versions of these words.)"
   ]
  },
  {
   "cell_type": "code",
   "execution_count": 13,
   "id": "81b2f086",
   "metadata": {
    "execution": {
     "iopub.execute_input": "2024-08-13T23:30:27.111297Z",
     "iopub.status.busy": "2024-08-13T23:30:27.110847Z",
     "iopub.status.idle": "2024-08-13T23:30:27.298140Z",
     "shell.execute_reply": "2024-08-13T23:30:27.296779Z"
    },
    "papermill": {
     "duration": 0.205767,
     "end_time": "2024-08-13T23:30:27.301307",
     "exception": false,
     "start_time": "2024-08-13T23:30:27.095540",
     "status": "completed"
    },
    "tags": []
   },
   "outputs": [],
   "source": [
    "trop_n = reviews.description.map(lambda desc: 'tropical' in desc).sum()\n",
    "fruity_n = reviews.description.map(lambda desc: 'fruity' in desc).sum()"
   ]
  },
  {
   "cell_type": "code",
   "execution_count": 14,
   "id": "8764b6c1",
   "metadata": {
    "execution": {
     "iopub.execute_input": "2024-08-13T23:30:27.327669Z",
     "iopub.status.busy": "2024-08-13T23:30:27.327211Z",
     "iopub.status.idle": "2024-08-13T23:30:27.339455Z",
     "shell.execute_reply": "2024-08-13T23:30:27.338194Z"
    },
    "papermill": {
     "duration": 0.028656,
     "end_time": "2024-08-13T23:30:27.342206",
     "exception": false,
     "start_time": "2024-08-13T23:30:27.313550",
     "status": "completed"
    },
    "tags": []
   },
   "outputs": [
    {
     "data": {
      "application/javascript": [
       "parent.postMessage({\"jupyterEvent\": \"custom.exercise_interaction\", \"data\": {\"outcomeType\": 1, \"valueTowardsCompletion\": 0.14285714285714285, \"interactionType\": 1, \"questionType\": 1, \"questionId\": \"6_DescriptorCounts\", \"learnToolsVersion\": \"0.3.4\", \"failureMessage\": \"\", \"exceptionClass\": \"\", \"trace\": \"\"}}, \"*\")"
      ],
      "text/plain": [
       "<IPython.core.display.Javascript object>"
      ]
     },
     "metadata": {},
     "output_type": "display_data"
    },
    {
     "data": {
      "text/markdown": [
       "<span style=\"color:#33cc33\">Correct</span>"
      ],
      "text/plain": [
       "Correct"
      ]
     },
     "metadata": {},
     "output_type": "display_data"
    }
   ],
   "source": [
    "descriptor_counts = pd.Series([trop_n, fruity_n], index=['tropical', 'fruity'])\n",
    "\n",
    "# Check your answer\n",
    "q6.check()"
   ]
  },
  {
   "cell_type": "code",
   "execution_count": 15,
   "id": "b2913de7",
   "metadata": {
    "execution": {
     "iopub.execute_input": "2024-08-13T23:30:27.369589Z",
     "iopub.status.busy": "2024-08-13T23:30:27.369137Z",
     "iopub.status.idle": "2024-08-13T23:30:27.382159Z",
     "shell.execute_reply": "2024-08-13T23:30:27.380893Z"
    },
    "papermill": {
     "duration": 0.029791,
     "end_time": "2024-08-13T23:30:27.385201",
     "exception": false,
     "start_time": "2024-08-13T23:30:27.355410",
     "status": "completed"
    },
    "tags": []
   },
   "outputs": [
    {
     "data": {
      "application/javascript": [
       "parent.postMessage({\"jupyterEvent\": \"custom.exercise_interaction\", \"data\": {\"interactionType\": 3, \"questionType\": 1, \"questionId\": \"6_DescriptorCounts\", \"learnToolsVersion\": \"0.3.4\", \"valueTowardsCompletion\": 0.0, \"failureMessage\": \"\", \"exceptionClass\": \"\", \"trace\": \"\", \"outcomeType\": 4}}, \"*\")"
      ],
      "text/plain": [
       "<IPython.core.display.Javascript object>"
      ]
     },
     "metadata": {},
     "output_type": "display_data"
    },
    {
     "data": {
      "text/markdown": [
       "<span style=\"color:#33cc99\">Solution:</span> \n",
       "```python\n",
       "n_trop = reviews.description.map(lambda desc: \"tropical\" in desc).sum()\n",
       "n_fruity = reviews.description.map(lambda desc: \"fruity\" in desc).sum()\n",
       "descriptor_counts = pd.Series([n_trop, n_fruity], index=['tropical', 'fruity'])\n",
       "```"
      ],
      "text/plain": [
       "Solution: \n",
       "```python\n",
       "n_trop = reviews.description.map(lambda desc: \"tropical\" in desc).sum()\n",
       "n_fruity = reviews.description.map(lambda desc: \"fruity\" in desc).sum()\n",
       "descriptor_counts = pd.Series([n_trop, n_fruity], index=['tropical', 'fruity'])\n",
       "```"
      ]
     },
     "metadata": {},
     "output_type": "display_data"
    }
   ],
   "source": [
    "#q6.hint()\n",
    "q6.solution()"
   ]
  },
  {
   "cell_type": "markdown",
   "id": "0c812da2",
   "metadata": {
    "papermill": {
     "duration": 0.012551,
     "end_time": "2024-08-13T23:30:27.411245",
     "exception": false,
     "start_time": "2024-08-13T23:30:27.398694",
     "status": "completed"
    },
    "tags": []
   },
   "source": [
    "## 7.\n",
    "We'd like to host these wine reviews on our website, but a rating system ranging from 80 to 100 points is too hard to understand - we'd like to translate them into simple star ratings. A score of 95 or higher counts as 3 stars, a score of at least 85 but less than 95 is 2 stars. Any other score is 1 star.\n",
    "\n",
    "Also, the Canadian Vintners Association bought a lot of ads on the site, so any wines from Canada should automatically get 3 stars, regardless of points.\n",
    "\n",
    "Create a series `star_ratings` with the number of stars corresponding to each review in the dataset."
   ]
  },
  {
   "cell_type": "code",
   "execution_count": 16,
   "id": "eb73d58f",
   "metadata": {
    "execution": {
     "iopub.execute_input": "2024-08-13T23:30:27.438488Z",
     "iopub.status.busy": "2024-08-13T23:30:27.438046Z",
     "iopub.status.idle": "2024-08-13T23:30:27.444745Z",
     "shell.execute_reply": "2024-08-13T23:30:27.443487Z"
    },
    "papermill": {
     "duration": 0.023514,
     "end_time": "2024-08-13T23:30:27.447406",
     "exception": false,
     "start_time": "2024-08-13T23:30:27.423892",
     "status": "completed"
    },
    "tags": []
   },
   "outputs": [],
   "source": [
    "def star_counter(data):\n",
    "    if data.points >= 95: \n",
    "        return 3\n",
    "    elif data.country == 'Canada':\n",
    "        return 3\n",
    "    elif data.points >=85 & data.points <95 :\n",
    "        return 2\n",
    "    else:\n",
    "        return 1\n",
    "    "
   ]
  },
  {
   "cell_type": "code",
   "execution_count": 17,
   "id": "0d48eb5b",
   "metadata": {
    "execution": {
     "iopub.execute_input": "2024-08-13T23:30:27.476799Z",
     "iopub.status.busy": "2024-08-13T23:30:27.476357Z",
     "iopub.status.idle": "2024-08-13T23:30:34.421615Z",
     "shell.execute_reply": "2024-08-13T23:30:34.420180Z"
    },
    "papermill": {
     "duration": 6.964028,
     "end_time": "2024-08-13T23:30:34.424536",
     "exception": false,
     "start_time": "2024-08-13T23:30:27.460508",
     "status": "completed"
    },
    "tags": []
   },
   "outputs": [
    {
     "data": {
      "application/javascript": [
       "parent.postMessage({\"jupyterEvent\": \"custom.exercise_interaction\", \"data\": {\"outcomeType\": 1, \"valueTowardsCompletion\": 0.14285714285714285, \"interactionType\": 1, \"questionType\": 1, \"questionId\": \"7_StarRatings\", \"learnToolsVersion\": \"0.3.4\", \"failureMessage\": \"\", \"exceptionClass\": \"\", \"trace\": \"\"}}, \"*\")"
      ],
      "text/plain": [
       "<IPython.core.display.Javascript object>"
      ]
     },
     "metadata": {},
     "output_type": "display_data"
    },
    {
     "data": {
      "text/markdown": [
       "<span style=\"color:#33cc33\">Correct</span>"
      ],
      "text/plain": [
       "Correct"
      ]
     },
     "metadata": {},
     "output_type": "display_data"
    }
   ],
   "source": [
    "star_ratings = reviews.apply(star_counter, axis='columns')\n",
    "\n",
    "# Check your answer\n",
    "q7.check()"
   ]
  },
  {
   "cell_type": "code",
   "execution_count": 18,
   "id": "b5c3c726",
   "metadata": {
    "execution": {
     "iopub.execute_input": "2024-08-13T23:30:34.452812Z",
     "iopub.status.busy": "2024-08-13T23:30:34.452435Z",
     "iopub.status.idle": "2024-08-13T23:30:34.459689Z",
     "shell.execute_reply": "2024-08-13T23:30:34.458404Z"
    },
    "papermill": {
     "duration": 0.025054,
     "end_time": "2024-08-13T23:30:34.462649",
     "exception": false,
     "start_time": "2024-08-13T23:30:34.437595",
     "status": "completed"
    },
    "tags": []
   },
   "outputs": [],
   "source": [
    "#q7.hint()\n",
    "#q7.solution()"
   ]
  },
  {
   "cell_type": "markdown",
   "id": "e40e9e3e",
   "metadata": {
    "papermill": {
     "duration": 0.012527,
     "end_time": "2024-08-13T23:30:34.489375",
     "exception": false,
     "start_time": "2024-08-13T23:30:34.476848",
     "status": "completed"
    },
    "tags": []
   },
   "source": [
    "# Keep going\n",
    "Continue to **[grouping and sorting](https://www.kaggle.com/residentmario/grouping-and-sorting)**."
   ]
  },
  {
   "cell_type": "markdown",
   "id": "272b7e7f",
   "metadata": {
    "papermill": {
     "duration": 0.01244,
     "end_time": "2024-08-13T23:30:34.514613",
     "exception": false,
     "start_time": "2024-08-13T23:30:34.502173",
     "status": "completed"
    },
    "tags": []
   },
   "source": [
    "---\n",
    "\n",
    "\n",
    "\n",
    "\n",
    "*Have questions or comments? Visit the [course discussion forum](https://www.kaggle.com/learn/pandas/discussion) to chat with other learners.*"
   ]
  }
 ],
 "metadata": {
  "kaggle": {
   "accelerator": "none",
   "dataSources": [
    {
     "datasetId": 655,
     "sourceId": 1252,
     "sourceType": "datasetVersion"
    },
    {
     "datasetId": 2321,
     "sourceId": 3919,
     "sourceType": "datasetVersion"
    },
    {
     "datasetId": 2894,
     "sourceId": 4877,
     "sourceType": "datasetVersion"
    },
    {
     "datasetId": 3491,
     "sourceId": 5624,
     "sourceType": "datasetVersion"
    },
    {
     "datasetId": 1442,
     "sourceId": 8172,
     "sourceType": "datasetVersion"
    },
    {
     "datasetId": 9366,
     "sourceId": 13206,
     "sourceType": "datasetVersion"
    },
    {
     "datasetId": 179555,
     "sourceId": 403916,
     "sourceType": "datasetVersion"
    },
    {
     "datasetId": 4549,
     "sourceId": 466349,
     "sourceType": "datasetVersion"
    },
    {
     "datasetId": 2478,
     "sourceId": 1151655,
     "sourceType": "datasetVersion"
    },
    {
     "datasetId": 10128,
     "sourceId": 5438389,
     "sourceType": "datasetVersion"
    }
   ],
   "isGpuEnabled": false,
   "isInternetEnabled": false,
   "language": "python",
   "sourceType": "notebook"
  },
  "kernelspec": {
   "display_name": "Python 3",
   "language": "python",
   "name": "python3"
  },
  "language_info": {
   "codemirror_mode": {
    "name": "ipython",
    "version": 3
   },
   "file_extension": ".py",
   "mimetype": "text/x-python",
   "name": "python",
   "nbconvert_exporter": "python",
   "pygments_lexer": "ipython3",
   "version": "3.10.13"
  },
  "papermill": {
   "default_parameters": {},
   "duration": 22.597311,
   "end_time": "2024-08-13T23:30:35.151329",
   "environment_variables": {},
   "exception": null,
   "input_path": "__notebook__.ipynb",
   "output_path": "__notebook__.ipynb",
   "parameters": {},
   "start_time": "2024-08-13T23:30:12.554018",
   "version": "2.5.0"
  }
 },
 "nbformat": 4,
 "nbformat_minor": 5
}
